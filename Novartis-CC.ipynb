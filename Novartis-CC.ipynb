{
 "cells": [
  {
   "cell_type": "code",
   "execution_count": 2,
   "metadata": {
    "_cell_guid": "b1076dfc-b9ad-4769-8c92-a6c4dae69d19",
    "_uuid": "8f2839f25d086af736a60e9eeb907d3b93b6e0e5"
   },
   "outputs": [
    {
     "name": "stdout",
     "output_type": "stream",
     "text": [
      "/kaggle/input/novartis-data/Test.csv\n",
      "/kaggle/input/novartis-data/sample_submission.csv\n",
      "/kaggle/input/novartis-data/Train.csv\n"
     ]
    }
   ],
   "source": [
    "# This Python 3 environment comes with many helpful analytics libraries installed\n",
    "# It is defined by the kaggle/python Docker image: https://github.com/kaggle/docker-python\n",
    "# For example, here's several helpful packages to load\n",
    "\n",
    "import numpy as np # linear algebra\n",
    "import pandas as pd # data processing, CSV file I/O (e.g. pd.read_csv)\n",
    "\n",
    "# Input data files are available in the read-only \"../input/\" directory\n",
    "# For example, running this (by clicking run or pressing Shift+Enter) will list all files under the input directory\n",
    "\n",
    "import os\n",
    "for dirname, _, filenames in os.walk('/kaggle/input'):\n",
    "    for filename in filenames:\n",
    "        print(os.path.join(dirname, filename))\n",
    "\n",
    "# You can write up to 5GB to the current directory (/kaggle/working/) that gets preserved as output when you create a version using \"Save & Run All\" \n",
    "# You can also write temporary files to /kaggle/temp/, but they won't be saved outside of the current session"
   ]
  },
  {
   "cell_type": "code",
   "execution_count": 3,
   "metadata": {
    "_cell_guid": "79c7e3d0-c299-4dcb-8224-4455121ee9b0",
    "_uuid": "d629ff2d2480ee46fbb7e2d37f6b5fab8052498a"
   },
   "outputs": [],
   "source": [
    "import pandas as pd\n",
    "import numpy as np"
   ]
  },
  {
   "cell_type": "code",
   "execution_count": 4,
   "metadata": {},
   "outputs": [],
   "source": [
    "nv_train=pd.read_csv(r'/kaggle/input/novartis-data/Train.csv')\n",
    "nv_test=pd.read_csv(r'/kaggle/input/novartis-data/Test.csv')"
   ]
  },
  {
   "cell_type": "code",
   "execution_count": 5,
   "metadata": {},
   "outputs": [
    {
     "data": {
      "text/html": [
       "<div>\n",
       "<style scoped>\n",
       "    .dataframe tbody tr th:only-of-type {\n",
       "        vertical-align: middle;\n",
       "    }\n",
       "\n",
       "    .dataframe tbody tr th {\n",
       "        vertical-align: top;\n",
       "    }\n",
       "\n",
       "    .dataframe thead th {\n",
       "        text-align: right;\n",
       "    }\n",
       "</style>\n",
       "<table border=\"1\" class=\"dataframe\">\n",
       "  <thead>\n",
       "    <tr style=\"text-align: right;\">\n",
       "      <th></th>\n",
       "      <th>INCIDENT_ID</th>\n",
       "      <th>DATE</th>\n",
       "      <th>X_1</th>\n",
       "      <th>X_2</th>\n",
       "      <th>X_3</th>\n",
       "      <th>X_4</th>\n",
       "      <th>X_5</th>\n",
       "      <th>X_6</th>\n",
       "      <th>X_7</th>\n",
       "      <th>X_8</th>\n",
       "      <th>X_9</th>\n",
       "      <th>X_10</th>\n",
       "      <th>X_11</th>\n",
       "      <th>X_12</th>\n",
       "      <th>X_13</th>\n",
       "      <th>X_14</th>\n",
       "      <th>X_15</th>\n",
       "      <th>MULTIPLE_OFFENSE</th>\n",
       "    </tr>\n",
       "  </thead>\n",
       "  <tbody>\n",
       "    <tr>\n",
       "      <th>0</th>\n",
       "      <td>CR_102659</td>\n",
       "      <td>04-JUL-04</td>\n",
       "      <td>0</td>\n",
       "      <td>36</td>\n",
       "      <td>34</td>\n",
       "      <td>2</td>\n",
       "      <td>1</td>\n",
       "      <td>5</td>\n",
       "      <td>6</td>\n",
       "      <td>1</td>\n",
       "      <td>6</td>\n",
       "      <td>1</td>\n",
       "      <td>174</td>\n",
       "      <td>1.0</td>\n",
       "      <td>92</td>\n",
       "      <td>29</td>\n",
       "      <td>36</td>\n",
       "      <td>0</td>\n",
       "    </tr>\n",
       "    <tr>\n",
       "      <th>1</th>\n",
       "      <td>CR_189752</td>\n",
       "      <td>18-JUL-17</td>\n",
       "      <td>1</td>\n",
       "      <td>37</td>\n",
       "      <td>37</td>\n",
       "      <td>0</td>\n",
       "      <td>0</td>\n",
       "      <td>11</td>\n",
       "      <td>17</td>\n",
       "      <td>1</td>\n",
       "      <td>6</td>\n",
       "      <td>1</td>\n",
       "      <td>236</td>\n",
       "      <td>1.0</td>\n",
       "      <td>103</td>\n",
       "      <td>142</td>\n",
       "      <td>34</td>\n",
       "      <td>1</td>\n",
       "    </tr>\n",
       "    <tr>\n",
       "      <th>2</th>\n",
       "      <td>CR_184637</td>\n",
       "      <td>15-MAR-17</td>\n",
       "      <td>0</td>\n",
       "      <td>3</td>\n",
       "      <td>2</td>\n",
       "      <td>3</td>\n",
       "      <td>5</td>\n",
       "      <td>1</td>\n",
       "      <td>0</td>\n",
       "      <td>2</td>\n",
       "      <td>3</td>\n",
       "      <td>1</td>\n",
       "      <td>174</td>\n",
       "      <td>1.0</td>\n",
       "      <td>110</td>\n",
       "      <td>93</td>\n",
       "      <td>34</td>\n",
       "      <td>1</td>\n",
       "    </tr>\n",
       "    <tr>\n",
       "      <th>3</th>\n",
       "      <td>CR_139071</td>\n",
       "      <td>13-FEB-09</td>\n",
       "      <td>0</td>\n",
       "      <td>33</td>\n",
       "      <td>32</td>\n",
       "      <td>2</td>\n",
       "      <td>1</td>\n",
       "      <td>7</td>\n",
       "      <td>1</td>\n",
       "      <td>1</td>\n",
       "      <td>6</td>\n",
       "      <td>1</td>\n",
       "      <td>249</td>\n",
       "      <td>1.0</td>\n",
       "      <td>72</td>\n",
       "      <td>29</td>\n",
       "      <td>34</td>\n",
       "      <td>1</td>\n",
       "    </tr>\n",
       "    <tr>\n",
       "      <th>4</th>\n",
       "      <td>CR_109335</td>\n",
       "      <td>13-APR-05</td>\n",
       "      <td>0</td>\n",
       "      <td>33</td>\n",
       "      <td>32</td>\n",
       "      <td>2</td>\n",
       "      <td>1</td>\n",
       "      <td>8</td>\n",
       "      <td>3</td>\n",
       "      <td>0</td>\n",
       "      <td>5</td>\n",
       "      <td>1</td>\n",
       "      <td>174</td>\n",
       "      <td>0.0</td>\n",
       "      <td>112</td>\n",
       "      <td>29</td>\n",
       "      <td>43</td>\n",
       "      <td>1</td>\n",
       "    </tr>\n",
       "  </tbody>\n",
       "</table>\n",
       "</div>"
      ],
      "text/plain": [
       "  INCIDENT_ID       DATE  X_1  X_2  X_3  X_4  X_5  X_6  X_7  X_8  X_9  X_10  \\\n",
       "0   CR_102659  04-JUL-04    0   36   34    2    1    5    6    1    6     1   \n",
       "1   CR_189752  18-JUL-17    1   37   37    0    0   11   17    1    6     1   \n",
       "2   CR_184637  15-MAR-17    0    3    2    3    5    1    0    2    3     1   \n",
       "3   CR_139071  13-FEB-09    0   33   32    2    1    7    1    1    6     1   \n",
       "4   CR_109335  13-APR-05    0   33   32    2    1    8    3    0    5     1   \n",
       "\n",
       "   X_11  X_12  X_13  X_14  X_15  MULTIPLE_OFFENSE  \n",
       "0   174   1.0    92    29    36                 0  \n",
       "1   236   1.0   103   142    34                 1  \n",
       "2   174   1.0   110    93    34                 1  \n",
       "3   249   1.0    72    29    34                 1  \n",
       "4   174   0.0   112    29    43                 1  "
      ]
     },
     "execution_count": 5,
     "metadata": {},
     "output_type": "execute_result"
    }
   ],
   "source": [
    "nv_train.head()"
   ]
  },
  {
   "cell_type": "code",
   "execution_count": 6,
   "metadata": {},
   "outputs": [
    {
     "data": {
      "text/html": [
       "<div>\n",
       "<style scoped>\n",
       "    .dataframe tbody tr th:only-of-type {\n",
       "        vertical-align: middle;\n",
       "    }\n",
       "\n",
       "    .dataframe tbody tr th {\n",
       "        vertical-align: top;\n",
       "    }\n",
       "\n",
       "    .dataframe thead th {\n",
       "        text-align: right;\n",
       "    }\n",
       "</style>\n",
       "<table border=\"1\" class=\"dataframe\">\n",
       "  <thead>\n",
       "    <tr style=\"text-align: right;\">\n",
       "      <th></th>\n",
       "      <th>INCIDENT_ID</th>\n",
       "      <th>DATE</th>\n",
       "      <th>X_1</th>\n",
       "      <th>X_2</th>\n",
       "      <th>X_3</th>\n",
       "      <th>X_4</th>\n",
       "      <th>X_5</th>\n",
       "      <th>X_6</th>\n",
       "      <th>X_7</th>\n",
       "      <th>X_8</th>\n",
       "      <th>X_9</th>\n",
       "      <th>X_10</th>\n",
       "      <th>X_11</th>\n",
       "      <th>X_12</th>\n",
       "      <th>X_13</th>\n",
       "      <th>X_14</th>\n",
       "      <th>X_15</th>\n",
       "    </tr>\n",
       "  </thead>\n",
       "  <tbody>\n",
       "    <tr>\n",
       "      <th>0</th>\n",
       "      <td>CR_195453</td>\n",
       "      <td>01-FEB-18</td>\n",
       "      <td>0</td>\n",
       "      <td>30</td>\n",
       "      <td>35</td>\n",
       "      <td>7</td>\n",
       "      <td>3</td>\n",
       "      <td>6</td>\n",
       "      <td>4</td>\n",
       "      <td>0</td>\n",
       "      <td>5</td>\n",
       "      <td>1</td>\n",
       "      <td>174</td>\n",
       "      <td>NaN</td>\n",
       "      <td>72</td>\n",
       "      <td>119</td>\n",
       "      <td>23</td>\n",
       "    </tr>\n",
       "    <tr>\n",
       "      <th>1</th>\n",
       "      <td>CR_103520</td>\n",
       "      <td>05-MAR-04</td>\n",
       "      <td>0</td>\n",
       "      <td>44</td>\n",
       "      <td>44</td>\n",
       "      <td>1</td>\n",
       "      <td>3</td>\n",
       "      <td>7</td>\n",
       "      <td>1</td>\n",
       "      <td>4</td>\n",
       "      <td>6</td>\n",
       "      <td>1</td>\n",
       "      <td>316</td>\n",
       "      <td>0.0</td>\n",
       "      <td>12</td>\n",
       "      <td>29</td>\n",
       "      <td>34</td>\n",
       "    </tr>\n",
       "    <tr>\n",
       "      <th>2</th>\n",
       "      <td>CR_196089</td>\n",
       "      <td>27-JAN-18</td>\n",
       "      <td>0</td>\n",
       "      <td>34</td>\n",
       "      <td>33</td>\n",
       "      <td>3</td>\n",
       "      <td>5</td>\n",
       "      <td>2</td>\n",
       "      <td>7</td>\n",
       "      <td>3</td>\n",
       "      <td>0</td>\n",
       "      <td>1</td>\n",
       "      <td>316</td>\n",
       "      <td>1.0</td>\n",
       "      <td>72</td>\n",
       "      <td>0</td>\n",
       "      <td>34</td>\n",
       "    </tr>\n",
       "    <tr>\n",
       "      <th>3</th>\n",
       "      <td>CR_112195</td>\n",
       "      <td>18-AUG-06</td>\n",
       "      <td>7</td>\n",
       "      <td>3</td>\n",
       "      <td>2</td>\n",
       "      <td>3</td>\n",
       "      <td>5</td>\n",
       "      <td>9</td>\n",
       "      <td>8</td>\n",
       "      <td>0</td>\n",
       "      <td>5</td>\n",
       "      <td>1</td>\n",
       "      <td>174</td>\n",
       "      <td>1.0</td>\n",
       "      <td>112</td>\n",
       "      <td>87</td>\n",
       "      <td>34</td>\n",
       "    </tr>\n",
       "    <tr>\n",
       "      <th>4</th>\n",
       "      <td>CR_149832</td>\n",
       "      <td>31-OCT-11</td>\n",
       "      <td>0</td>\n",
       "      <td>7</td>\n",
       "      <td>8</td>\n",
       "      <td>7</td>\n",
       "      <td>3</td>\n",
       "      <td>2</td>\n",
       "      <td>7</td>\n",
       "      <td>1</td>\n",
       "      <td>5</td>\n",
       "      <td>1</td>\n",
       "      <td>174</td>\n",
       "      <td>0.0</td>\n",
       "      <td>112</td>\n",
       "      <td>93</td>\n",
       "      <td>43</td>\n",
       "    </tr>\n",
       "  </tbody>\n",
       "</table>\n",
       "</div>"
      ],
      "text/plain": [
       "  INCIDENT_ID       DATE  X_1  X_2  X_3  X_4  X_5  X_6  X_7  X_8  X_9  X_10  \\\n",
       "0   CR_195453  01-FEB-18    0   30   35    7    3    6    4    0    5     1   \n",
       "1   CR_103520  05-MAR-04    0   44   44    1    3    7    1    4    6     1   \n",
       "2   CR_196089  27-JAN-18    0   34   33    3    5    2    7    3    0     1   \n",
       "3   CR_112195  18-AUG-06    7    3    2    3    5    9    8    0    5     1   \n",
       "4   CR_149832  31-OCT-11    0    7    8    7    3    2    7    1    5     1   \n",
       "\n",
       "   X_11  X_12  X_13  X_14  X_15  \n",
       "0   174   NaN    72   119    23  \n",
       "1   316   0.0    12    29    34  \n",
       "2   316   1.0    72     0    34  \n",
       "3   174   1.0   112    87    34  \n",
       "4   174   0.0   112    93    43  "
      ]
     },
     "execution_count": 6,
     "metadata": {},
     "output_type": "execute_result"
    }
   ],
   "source": [
    "\n",
    "\n",
    "nv_test.head()"
   ]
  },
  {
   "cell_type": "code",
   "execution_count": 7,
   "metadata": {},
   "outputs": [
    {
     "name": "stdout",
     "output_type": "stream",
     "text": [
      "(23856, 18) (15903, 17)\n"
     ]
    }
   ],
   "source": [
    "\n",
    "\n",
    "print(nv_train.shape,nv_test.shape)"
   ]
  },
  {
   "cell_type": "code",
   "execution_count": 8,
   "metadata": {},
   "outputs": [],
   "source": [
    "nv_train=nv_train.drop(['INCIDENT_ID'],axis=1)\n",
    "nv_test=nv_test.drop(['INCIDENT_ID'],axis=1)"
   ]
  },
  {
   "cell_type": "code",
   "execution_count": 9,
   "metadata": {},
   "outputs": [
    {
     "data": {
      "text/plain": [
       "DATE     object\n",
       "X_1       int64\n",
       "X_2       int64\n",
       "X_3       int64\n",
       "X_4       int64\n",
       "X_5       int64\n",
       "X_6       int64\n",
       "X_7       int64\n",
       "X_8       int64\n",
       "X_9       int64\n",
       "X_10      int64\n",
       "X_11      int64\n",
       "X_12    float64\n",
       "X_13      int64\n",
       "X_14      int64\n",
       "X_15      int64\n",
       "dtype: object"
      ]
     },
     "execution_count": 9,
     "metadata": {},
     "output_type": "execute_result"
    }
   ],
   "source": [
    "nv_test.dtypes"
   ]
  },
  {
   "cell_type": "code",
   "execution_count": 10,
   "metadata": {},
   "outputs": [],
   "source": [
    "# Function to split date_values"
   ]
  },
  {
   "cell_type": "code",
   "execution_count": 11,
   "metadata": {},
   "outputs": [],
   "source": [
    "def extract_date(data):\n",
    "    date=data['DATE']\n",
    "    date_split=[]\n",
    "    for day in date:\n",
    "        #date_split.append([day.split('-')[0],day.split('-')[1],'20'+day.split('-')[2]])\n",
    "        date_split.append([day.split('-')[0],day.split('-')[1],'19'+day.split('-')[2] if int(day.split('-')[2])>=20 else '20'+day.split('-')[2]])\n",
    "    new_date=pd.DataFrame(date_split,columns=['DAY','MONTH','YEAR'])\n",
    "    return new_date\n",
    "        "
   ]
  },
  {
   "cell_type": "code",
   "execution_count": 12,
   "metadata": {},
   "outputs": [],
   "source": [
    "nv_train=pd.concat([nv_train,extract_date(nv_train)],axis=1)\n",
    "nv_train=nv_train.drop(['DATE'],axis=1)"
   ]
  },
  {
   "cell_type": "code",
   "execution_count": 13,
   "metadata": {},
   "outputs": [],
   "source": [
    "nv_test=pd.concat([nv_test,extract_date(nv_test)],axis=1)\n",
    "nv_test=nv_test.drop(['DATE'],axis=1)"
   ]
  },
  {
   "cell_type": "code",
   "execution_count": 14,
   "metadata": {},
   "outputs": [
    {
     "data": {
      "text/plain": [
       "2001    1186\n",
       "1996    1040\n",
       "2000    1016\n",
       "2006     989\n",
       "1993     962\n",
       "1997     952\n",
       "1998     947\n",
       "2008     941\n",
       "2007     903\n",
       "2004     897\n",
       "2003     890\n",
       "2017     884\n",
       "2005     873\n",
       "1999     865\n",
       "2002     844\n",
       "1995     838\n",
       "2012     823\n",
       "2018     816\n",
       "1992     792\n",
       "2010     783\n",
       "2009     776\n",
       "2011     759\n",
       "2016     743\n",
       "1994     724\n",
       "2015     720\n",
       "2013     703\n",
       "2014     678\n",
       "1991     512\n",
       "Name: YEAR, dtype: int64"
      ]
     },
     "execution_count": 14,
     "metadata": {},
     "output_type": "execute_result"
    }
   ],
   "source": [
    "nv_train['YEAR'].value_counts()"
   ]
  },
  {
   "cell_type": "code",
   "execution_count": 15,
   "metadata": {},
   "outputs": [],
   "source": [
    "\n",
    "nv_train['MONTH']=nv_train['MONTH'].str.replace('JAN','1')\n",
    "nv_train['MONTH']=nv_train['MONTH'].str.replace('FEB','2')\n",
    "nv_train['MONTH']=nv_train['MONTH'].str.replace('MAR','3')\n",
    "nv_train['MONTH']=nv_train['MONTH'].str.replace('APR','4')\n",
    "nv_train['MONTH']=nv_train['MONTH'].str.replace('MAY','5')\n",
    "nv_train['MONTH']=nv_train['MONTH'].str.replace('JUN','6')\n",
    "nv_train['MONTH']=nv_train['MONTH'].str.replace('JUL','7')\n",
    "nv_train['MONTH']=nv_train['MONTH'].str.replace('AUG','8')\n",
    "nv_train['MONTH']=nv_train['MONTH'].str.replace('SEP','9')\n",
    "nv_train['MONTH']=nv_train['MONTH'].str.replace('OCT','10')\n",
    "nv_train['MONTH']=nv_train['MONTH'].str.replace('NOV','11')\n",
    "nv_train['MONTH']=nv_train['MONTH'].str.replace('DEC','12')"
   ]
  },
  {
   "cell_type": "code",
   "execution_count": 16,
   "metadata": {},
   "outputs": [],
   "source": [
    "\n",
    "nv_test['MONTH']=nv_train['MONTH'].str.replace('JAN','1')\n",
    "nv_test['MONTH']=nv_train['MONTH'].str.replace('FEB','2')\n",
    "nv_test['MONTH']=nv_train['MONTH'].str.replace('MAR','3')\n",
    "nv_test['MONTH']=nv_train['MONTH'].str.replace('APR','4')\n",
    "nv_test['MONTH']=nv_train['MONTH'].str.replace('MAY','5')\n",
    "nv_test['MONTH']=nv_train['MONTH'].str.replace('JUN','6')\n",
    "nv_test['MONTH']=nv_train['MONTH'].str.replace('JUL','7')\n",
    "nv_test['MONTH']=nv_train['MONTH'].str.replace('AUG','8')\n",
    "nv_test['MONTH']=nv_train['MONTH'].str.replace('SEP','9')\n",
    "nv_test['MONTH']=nv_train['MONTH'].str.replace('OCT','10')\n",
    "nv_test['MONTH']=nv_train['MONTH'].str.replace('NOV','11')\n",
    "nv_test['MONTH']=nv_train['MONTH'].str.replace('DEC','12')"
   ]
  },
  {
   "cell_type": "code",
   "execution_count": 17,
   "metadata": {},
   "outputs": [
    {
     "data": {
      "text/plain": [
       "9     2290\n",
       "7     2157\n",
       "5     2142\n",
       "10    2138\n",
       "4     2114\n",
       "6     2113\n",
       "8     2110\n",
       "3     1990\n",
       "11    1853\n",
       "1     1739\n",
       "2     1715\n",
       "12    1495\n",
       "Name: MONTH, dtype: int64"
      ]
     },
     "execution_count": 17,
     "metadata": {},
     "output_type": "execute_result"
    }
   ],
   "source": [
    "nv_train['MONTH'].value_counts()"
   ]
  },
  {
   "cell_type": "code",
   "execution_count": 18,
   "metadata": {},
   "outputs": [],
   "source": [
    "nv_train['YEAR']=nv_train['YEAR'].astype(int)\n",
    "nv_train['MONTH']=nv_train['MONTH'].astype(int)\n",
    "nv_train['DAY']=nv_train['DAY'].astype(int)"
   ]
  },
  {
   "cell_type": "code",
   "execution_count": 19,
   "metadata": {},
   "outputs": [],
   "source": [
    "nv_test['YEAR']=nv_test['YEAR'].astype(int)\n",
    "nv_test['MONTH']=nv_test['MONTH'].astype(int)\n",
    "nv_test['DAY']=nv_test['DAY'].astype(int)"
   ]
  },
  {
   "cell_type": "code",
   "execution_count": null,
   "metadata": {},
   "outputs": [],
   "source": []
  },
  {
   "cell_type": "code",
   "execution_count": null,
   "metadata": {},
   "outputs": [],
   "source": []
  },
  {
   "cell_type": "code",
   "execution_count": null,
   "metadata": {},
   "outputs": [],
   "source": []
  },
  {
   "cell_type": "code",
   "execution_count": null,
   "metadata": {},
   "outputs": [],
   "source": []
  },
  {
   "cell_type": "code",
   "execution_count": null,
   "metadata": {},
   "outputs": [],
   "source": [
    "# Handning Cyclic data - Date"
   ]
  },
  {
   "cell_type": "code",
   "execution_count": 20,
   "metadata": {},
   "outputs": [],
   "source": [
    "def code_cyclic_features(data,columns,drop_cols=True):\n",
    "    for col in columns:\n",
    "        max_val=max(data[col])\n",
    "\n",
    "        data[col+'_sin']=np.sin(2*np.pi*data[col]/max_val)\n",
    "        data[col+'_cos']=np.cos(2*np.pi*data[col]/max_val)\n",
    "\n",
    "        if drop_cols:\n",
    "            del data[col]\n",
    "    return data  "
   ]
  },
  {
   "cell_type": "code",
   "execution_count": 21,
   "metadata": {},
   "outputs": [
    {
     "data": {
      "text/html": [
       "<div>\n",
       "<style scoped>\n",
       "    .dataframe tbody tr th:only-of-type {\n",
       "        vertical-align: middle;\n",
       "    }\n",
       "\n",
       "    .dataframe tbody tr th {\n",
       "        vertical-align: top;\n",
       "    }\n",
       "\n",
       "    .dataframe thead th {\n",
       "        text-align: right;\n",
       "    }\n",
       "</style>\n",
       "<table border=\"1\" class=\"dataframe\">\n",
       "  <thead>\n",
       "    <tr style=\"text-align: right;\">\n",
       "      <th></th>\n",
       "      <th>X_1</th>\n",
       "      <th>X_2</th>\n",
       "      <th>X_3</th>\n",
       "      <th>X_4</th>\n",
       "      <th>X_5</th>\n",
       "      <th>X_6</th>\n",
       "      <th>X_7</th>\n",
       "      <th>X_8</th>\n",
       "      <th>X_9</th>\n",
       "      <th>X_10</th>\n",
       "      <th>...</th>\n",
       "      <th>X_13</th>\n",
       "      <th>X_14</th>\n",
       "      <th>X_15</th>\n",
       "      <th>MULTIPLE_OFFENSE</th>\n",
       "      <th>DAY_sin</th>\n",
       "      <th>DAY_cos</th>\n",
       "      <th>MONTH_sin</th>\n",
       "      <th>MONTH_cos</th>\n",
       "      <th>YEAR_sin</th>\n",
       "      <th>YEAR_cos</th>\n",
       "    </tr>\n",
       "  </thead>\n",
       "  <tbody>\n",
       "    <tr>\n",
       "      <th>0</th>\n",
       "      <td>0</td>\n",
       "      <td>36</td>\n",
       "      <td>34</td>\n",
       "      <td>2</td>\n",
       "      <td>1</td>\n",
       "      <td>5</td>\n",
       "      <td>6</td>\n",
       "      <td>1</td>\n",
       "      <td>6</td>\n",
       "      <td>1</td>\n",
       "      <td>...</td>\n",
       "      <td>92</td>\n",
       "      <td>29</td>\n",
       "      <td>36</td>\n",
       "      <td>0</td>\n",
       "      <td>0.724793</td>\n",
       "      <td>0.688967</td>\n",
       "      <td>-0.500000</td>\n",
       "      <td>-8.660254e-01</td>\n",
       "      <td>-0.043576</td>\n",
       "      <td>0.999050</td>\n",
       "    </tr>\n",
       "    <tr>\n",
       "      <th>1</th>\n",
       "      <td>1</td>\n",
       "      <td>37</td>\n",
       "      <td>37</td>\n",
       "      <td>0</td>\n",
       "      <td>0</td>\n",
       "      <td>11</td>\n",
       "      <td>17</td>\n",
       "      <td>1</td>\n",
       "      <td>6</td>\n",
       "      <td>1</td>\n",
       "      <td>...</td>\n",
       "      <td>103</td>\n",
       "      <td>142</td>\n",
       "      <td>34</td>\n",
       "      <td>1</td>\n",
       "      <td>-0.485302</td>\n",
       "      <td>-0.874347</td>\n",
       "      <td>-0.500000</td>\n",
       "      <td>-8.660254e-01</td>\n",
       "      <td>-0.003114</td>\n",
       "      <td>0.999995</td>\n",
       "    </tr>\n",
       "    <tr>\n",
       "      <th>2</th>\n",
       "      <td>0</td>\n",
       "      <td>3</td>\n",
       "      <td>2</td>\n",
       "      <td>3</td>\n",
       "      <td>5</td>\n",
       "      <td>1</td>\n",
       "      <td>0</td>\n",
       "      <td>2</td>\n",
       "      <td>3</td>\n",
       "      <td>1</td>\n",
       "      <td>...</td>\n",
       "      <td>110</td>\n",
       "      <td>93</td>\n",
       "      <td>34</td>\n",
       "      <td>1</td>\n",
       "      <td>0.101168</td>\n",
       "      <td>-0.994869</td>\n",
       "      <td>1.000000</td>\n",
       "      <td>6.123234e-17</td>\n",
       "      <td>-0.003114</td>\n",
       "      <td>0.999995</td>\n",
       "    </tr>\n",
       "    <tr>\n",
       "      <th>3</th>\n",
       "      <td>0</td>\n",
       "      <td>33</td>\n",
       "      <td>32</td>\n",
       "      <td>2</td>\n",
       "      <td>1</td>\n",
       "      <td>7</td>\n",
       "      <td>1</td>\n",
       "      <td>1</td>\n",
       "      <td>6</td>\n",
       "      <td>1</td>\n",
       "      <td>...</td>\n",
       "      <td>72</td>\n",
       "      <td>29</td>\n",
       "      <td>34</td>\n",
       "      <td>1</td>\n",
       "      <td>0.485302</td>\n",
       "      <td>-0.874347</td>\n",
       "      <td>0.866025</td>\n",
       "      <td>5.000000e-01</td>\n",
       "      <td>-0.028018</td>\n",
       "      <td>0.999607</td>\n",
       "    </tr>\n",
       "    <tr>\n",
       "      <th>4</th>\n",
       "      <td>0</td>\n",
       "      <td>33</td>\n",
       "      <td>32</td>\n",
       "      <td>2</td>\n",
       "      <td>1</td>\n",
       "      <td>8</td>\n",
       "      <td>3</td>\n",
       "      <td>0</td>\n",
       "      <td>5</td>\n",
       "      <td>1</td>\n",
       "      <td>...</td>\n",
       "      <td>112</td>\n",
       "      <td>29</td>\n",
       "      <td>43</td>\n",
       "      <td>1</td>\n",
       "      <td>0.485302</td>\n",
       "      <td>-0.874347</td>\n",
       "      <td>0.866025</td>\n",
       "      <td>-5.000000e-01</td>\n",
       "      <td>-0.040465</td>\n",
       "      <td>0.999181</td>\n",
       "    </tr>\n",
       "    <tr>\n",
       "      <th>...</th>\n",
       "      <td>...</td>\n",
       "      <td>...</td>\n",
       "      <td>...</td>\n",
       "      <td>...</td>\n",
       "      <td>...</td>\n",
       "      <td>...</td>\n",
       "      <td>...</td>\n",
       "      <td>...</td>\n",
       "      <td>...</td>\n",
       "      <td>...</td>\n",
       "      <td>...</td>\n",
       "      <td>...</td>\n",
       "      <td>...</td>\n",
       "      <td>...</td>\n",
       "      <td>...</td>\n",
       "      <td>...</td>\n",
       "      <td>...</td>\n",
       "      <td>...</td>\n",
       "      <td>...</td>\n",
       "      <td>...</td>\n",
       "      <td>...</td>\n",
       "    </tr>\n",
       "    <tr>\n",
       "      <th>23851</th>\n",
       "      <td>1</td>\n",
       "      <td>47</td>\n",
       "      <td>48</td>\n",
       "      <td>7</td>\n",
       "      <td>3</td>\n",
       "      <td>15</td>\n",
       "      <td>10</td>\n",
       "      <td>1</td>\n",
       "      <td>5</td>\n",
       "      <td>1</td>\n",
       "      <td>...</td>\n",
       "      <td>98</td>\n",
       "      <td>29</td>\n",
       "      <td>34</td>\n",
       "      <td>1</td>\n",
       "      <td>0.790776</td>\n",
       "      <td>-0.612106</td>\n",
       "      <td>0.500000</td>\n",
       "      <td>8.660254e-01</td>\n",
       "      <td>-0.049797</td>\n",
       "      <td>0.998759</td>\n",
       "    </tr>\n",
       "    <tr>\n",
       "      <th>23852</th>\n",
       "      <td>0</td>\n",
       "      <td>33</td>\n",
       "      <td>32</td>\n",
       "      <td>2</td>\n",
       "      <td>1</td>\n",
       "      <td>5</td>\n",
       "      <td>6</td>\n",
       "      <td>0</td>\n",
       "      <td>5</td>\n",
       "      <td>1</td>\n",
       "      <td>...</td>\n",
       "      <td>112</td>\n",
       "      <td>29</td>\n",
       "      <td>43</td>\n",
       "      <td>1</td>\n",
       "      <td>0.848644</td>\n",
       "      <td>0.528964</td>\n",
       "      <td>0.866025</td>\n",
       "      <td>5.000000e-01</td>\n",
       "      <td>-0.065338</td>\n",
       "      <td>0.997863</td>\n",
       "    </tr>\n",
       "    <tr>\n",
       "      <th>23853</th>\n",
       "      <td>0</td>\n",
       "      <td>25</td>\n",
       "      <td>25</td>\n",
       "      <td>9</td>\n",
       "      <td>0</td>\n",
       "      <td>3</td>\n",
       "      <td>5</td>\n",
       "      <td>1</td>\n",
       "      <td>6</td>\n",
       "      <td>1</td>\n",
       "      <td>...</td>\n",
       "      <td>10</td>\n",
       "      <td>29</td>\n",
       "      <td>18</td>\n",
       "      <td>1</td>\n",
       "      <td>0.571268</td>\n",
       "      <td>0.820763</td>\n",
       "      <td>0.866025</td>\n",
       "      <td>-5.000000e-01</td>\n",
       "      <td>-0.018680</td>\n",
       "      <td>0.999826</td>\n",
       "    </tr>\n",
       "    <tr>\n",
       "      <th>23854</th>\n",
       "      <td>0</td>\n",
       "      <td>39</td>\n",
       "      <td>39</td>\n",
       "      <td>6</td>\n",
       "      <td>5</td>\n",
       "      <td>2</td>\n",
       "      <td>7</td>\n",
       "      <td>1</td>\n",
       "      <td>6</td>\n",
       "      <td>1</td>\n",
       "      <td>...</td>\n",
       "      <td>112</td>\n",
       "      <td>103</td>\n",
       "      <td>43</td>\n",
       "      <td>1</td>\n",
       "      <td>-0.937752</td>\n",
       "      <td>0.347305</td>\n",
       "      <td>0.500000</td>\n",
       "      <td>8.660254e-01</td>\n",
       "      <td>-0.043576</td>\n",
       "      <td>0.999050</td>\n",
       "    </tr>\n",
       "    <tr>\n",
       "      <th>23855</th>\n",
       "      <td>7</td>\n",
       "      <td>36</td>\n",
       "      <td>34</td>\n",
       "      <td>2</td>\n",
       "      <td>1</td>\n",
       "      <td>9</td>\n",
       "      <td>8</td>\n",
       "      <td>0</td>\n",
       "      <td>5</td>\n",
       "      <td>1</td>\n",
       "      <td>...</td>\n",
       "      <td>92</td>\n",
       "      <td>29</td>\n",
       "      <td>34</td>\n",
       "      <td>1</td>\n",
       "      <td>0.998717</td>\n",
       "      <td>-0.050649</td>\n",
       "      <td>-0.500000</td>\n",
       "      <td>8.660254e-01</td>\n",
       "      <td>-0.074656</td>\n",
       "      <td>0.997209</td>\n",
       "    </tr>\n",
       "  </tbody>\n",
       "</table>\n",
       "<p>23856 rows × 22 columns</p>\n",
       "</div>"
      ],
      "text/plain": [
       "       X_1  X_2  X_3  X_4  X_5  X_6  X_7  X_8  X_9  X_10  ...  X_13  X_14  \\\n",
       "0        0   36   34    2    1    5    6    1    6     1  ...    92    29   \n",
       "1        1   37   37    0    0   11   17    1    6     1  ...   103   142   \n",
       "2        0    3    2    3    5    1    0    2    3     1  ...   110    93   \n",
       "3        0   33   32    2    1    7    1    1    6     1  ...    72    29   \n",
       "4        0   33   32    2    1    8    3    0    5     1  ...   112    29   \n",
       "...    ...  ...  ...  ...  ...  ...  ...  ...  ...   ...  ...   ...   ...   \n",
       "23851    1   47   48    7    3   15   10    1    5     1  ...    98    29   \n",
       "23852    0   33   32    2    1    5    6    0    5     1  ...   112    29   \n",
       "23853    0   25   25    9    0    3    5    1    6     1  ...    10    29   \n",
       "23854    0   39   39    6    5    2    7    1    6     1  ...   112   103   \n",
       "23855    7   36   34    2    1    9    8    0    5     1  ...    92    29   \n",
       "\n",
       "       X_15  MULTIPLE_OFFENSE   DAY_sin   DAY_cos  MONTH_sin     MONTH_cos  \\\n",
       "0        36                 0  0.724793  0.688967  -0.500000 -8.660254e-01   \n",
       "1        34                 1 -0.485302 -0.874347  -0.500000 -8.660254e-01   \n",
       "2        34                 1  0.101168 -0.994869   1.000000  6.123234e-17   \n",
       "3        34                 1  0.485302 -0.874347   0.866025  5.000000e-01   \n",
       "4        43                 1  0.485302 -0.874347   0.866025 -5.000000e-01   \n",
       "...     ...               ...       ...       ...        ...           ...   \n",
       "23851    34                 1  0.790776 -0.612106   0.500000  8.660254e-01   \n",
       "23852    43                 1  0.848644  0.528964   0.866025  5.000000e-01   \n",
       "23853    18                 1  0.571268  0.820763   0.866025 -5.000000e-01   \n",
       "23854    43                 1 -0.937752  0.347305   0.500000  8.660254e-01   \n",
       "23855    34                 1  0.998717 -0.050649  -0.500000  8.660254e-01   \n",
       "\n",
       "       YEAR_sin  YEAR_cos  \n",
       "0     -0.043576  0.999050  \n",
       "1     -0.003114  0.999995  \n",
       "2     -0.003114  0.999995  \n",
       "3     -0.028018  0.999607  \n",
       "4     -0.040465  0.999181  \n",
       "...         ...       ...  \n",
       "23851 -0.049797  0.998759  \n",
       "23852 -0.065338  0.997863  \n",
       "23853 -0.018680  0.999826  \n",
       "23854 -0.043576  0.999050  \n",
       "23855 -0.074656  0.997209  \n",
       "\n",
       "[23856 rows x 22 columns]"
      ]
     },
     "execution_count": 21,
     "metadata": {},
     "output_type": "execute_result"
    }
   ],
   "source": [
    "code_cyclic_features(nv_train,['DAY','MONTH','YEAR'])"
   ]
  },
  {
   "cell_type": "code",
   "execution_count": 22,
   "metadata": {},
   "outputs": [
    {
     "data": {
      "text/html": [
       "<div>\n",
       "<style scoped>\n",
       "    .dataframe tbody tr th:only-of-type {\n",
       "        vertical-align: middle;\n",
       "    }\n",
       "\n",
       "    .dataframe tbody tr th {\n",
       "        vertical-align: top;\n",
       "    }\n",
       "\n",
       "    .dataframe thead th {\n",
       "        text-align: right;\n",
       "    }\n",
       "</style>\n",
       "<table border=\"1\" class=\"dataframe\">\n",
       "  <thead>\n",
       "    <tr style=\"text-align: right;\">\n",
       "      <th></th>\n",
       "      <th>X_1</th>\n",
       "      <th>X_2</th>\n",
       "      <th>X_3</th>\n",
       "      <th>X_4</th>\n",
       "      <th>X_5</th>\n",
       "      <th>X_6</th>\n",
       "      <th>X_7</th>\n",
       "      <th>X_8</th>\n",
       "      <th>X_9</th>\n",
       "      <th>X_10</th>\n",
       "      <th>...</th>\n",
       "      <th>X_12</th>\n",
       "      <th>X_13</th>\n",
       "      <th>X_14</th>\n",
       "      <th>X_15</th>\n",
       "      <th>DAY_sin</th>\n",
       "      <th>DAY_cos</th>\n",
       "      <th>MONTH_sin</th>\n",
       "      <th>MONTH_cos</th>\n",
       "      <th>YEAR_sin</th>\n",
       "      <th>YEAR_cos</th>\n",
       "    </tr>\n",
       "  </thead>\n",
       "  <tbody>\n",
       "    <tr>\n",
       "      <th>0</th>\n",
       "      <td>0</td>\n",
       "      <td>30</td>\n",
       "      <td>35</td>\n",
       "      <td>7</td>\n",
       "      <td>3</td>\n",
       "      <td>6</td>\n",
       "      <td>4</td>\n",
       "      <td>0</td>\n",
       "      <td>5</td>\n",
       "      <td>1</td>\n",
       "      <td>...</td>\n",
       "      <td>NaN</td>\n",
       "      <td>72</td>\n",
       "      <td>119</td>\n",
       "      <td>23</td>\n",
       "      <td>2.012985e-01</td>\n",
       "      <td>0.979530</td>\n",
       "      <td>-0.500000</td>\n",
       "      <td>-8.660254e-01</td>\n",
       "      <td>-2.449294e-16</td>\n",
       "      <td>1.000000</td>\n",
       "    </tr>\n",
       "    <tr>\n",
       "      <th>1</th>\n",
       "      <td>0</td>\n",
       "      <td>44</td>\n",
       "      <td>44</td>\n",
       "      <td>1</td>\n",
       "      <td>3</td>\n",
       "      <td>7</td>\n",
       "      <td>1</td>\n",
       "      <td>4</td>\n",
       "      <td>6</td>\n",
       "      <td>1</td>\n",
       "      <td>...</td>\n",
       "      <td>0.0</td>\n",
       "      <td>12</td>\n",
       "      <td>29</td>\n",
       "      <td>34</td>\n",
       "      <td>8.486443e-01</td>\n",
       "      <td>0.528964</td>\n",
       "      <td>-0.500000</td>\n",
       "      <td>-8.660254e-01</td>\n",
       "      <td>-4.357618e-02</td>\n",
       "      <td>0.999050</td>\n",
       "    </tr>\n",
       "    <tr>\n",
       "      <th>2</th>\n",
       "      <td>0</td>\n",
       "      <td>34</td>\n",
       "      <td>33</td>\n",
       "      <td>3</td>\n",
       "      <td>5</td>\n",
       "      <td>2</td>\n",
       "      <td>7</td>\n",
       "      <td>3</td>\n",
       "      <td>0</td>\n",
       "      <td>1</td>\n",
       "      <td>...</td>\n",
       "      <td>1.0</td>\n",
       "      <td>72</td>\n",
       "      <td>0</td>\n",
       "      <td>34</td>\n",
       "      <td>-7.247928e-01</td>\n",
       "      <td>0.688967</td>\n",
       "      <td>1.000000</td>\n",
       "      <td>6.123234e-17</td>\n",
       "      <td>-2.449294e-16</td>\n",
       "      <td>1.000000</td>\n",
       "    </tr>\n",
       "    <tr>\n",
       "      <th>3</th>\n",
       "      <td>7</td>\n",
       "      <td>3</td>\n",
       "      <td>2</td>\n",
       "      <td>3</td>\n",
       "      <td>5</td>\n",
       "      <td>9</td>\n",
       "      <td>8</td>\n",
       "      <td>0</td>\n",
       "      <td>5</td>\n",
       "      <td>1</td>\n",
       "      <td>...</td>\n",
       "      <td>1.0</td>\n",
       "      <td>112</td>\n",
       "      <td>87</td>\n",
       "      <td>34</td>\n",
       "      <td>-4.853020e-01</td>\n",
       "      <td>-0.874347</td>\n",
       "      <td>0.866025</td>\n",
       "      <td>5.000000e-01</td>\n",
       "      <td>-3.735415e-02</td>\n",
       "      <td>0.999302</td>\n",
       "    </tr>\n",
       "    <tr>\n",
       "      <th>4</th>\n",
       "      <td>0</td>\n",
       "      <td>7</td>\n",
       "      <td>8</td>\n",
       "      <td>7</td>\n",
       "      <td>3</td>\n",
       "      <td>2</td>\n",
       "      <td>7</td>\n",
       "      <td>1</td>\n",
       "      <td>5</td>\n",
       "      <td>1</td>\n",
       "      <td>...</td>\n",
       "      <td>0.0</td>\n",
       "      <td>112</td>\n",
       "      <td>93</td>\n",
       "      <td>43</td>\n",
       "      <td>-2.449294e-16</td>\n",
       "      <td>1.000000</td>\n",
       "      <td>0.866025</td>\n",
       "      <td>-5.000000e-01</td>\n",
       "      <td>-2.179327e-02</td>\n",
       "      <td>0.999762</td>\n",
       "    </tr>\n",
       "    <tr>\n",
       "      <th>...</th>\n",
       "      <td>...</td>\n",
       "      <td>...</td>\n",
       "      <td>...</td>\n",
       "      <td>...</td>\n",
       "      <td>...</td>\n",
       "      <td>...</td>\n",
       "      <td>...</td>\n",
       "      <td>...</td>\n",
       "      <td>...</td>\n",
       "      <td>...</td>\n",
       "      <td>...</td>\n",
       "      <td>...</td>\n",
       "      <td>...</td>\n",
       "      <td>...</td>\n",
       "      <td>...</td>\n",
       "      <td>...</td>\n",
       "      <td>...</td>\n",
       "      <td>...</td>\n",
       "      <td>...</td>\n",
       "      <td>...</td>\n",
       "      <td>...</td>\n",
       "    </tr>\n",
       "    <tr>\n",
       "      <th>15898</th>\n",
       "      <td>1</td>\n",
       "      <td>22</td>\n",
       "      <td>22</td>\n",
       "      <td>7</td>\n",
       "      <td>3</td>\n",
       "      <td>15</td>\n",
       "      <td>10</td>\n",
       "      <td>0</td>\n",
       "      <td>5</td>\n",
       "      <td>1</td>\n",
       "      <td>...</td>\n",
       "      <td>0.0</td>\n",
       "      <td>72</td>\n",
       "      <td>29</td>\n",
       "      <td>43</td>\n",
       "      <td>-5.712682e-01</td>\n",
       "      <td>0.820763</td>\n",
       "      <td>1.000000</td>\n",
       "      <td>6.123234e-17</td>\n",
       "      <td>-6.533840e-02</td>\n",
       "      <td>0.997863</td>\n",
       "    </tr>\n",
       "    <tr>\n",
       "      <th>15899</th>\n",
       "      <td>0</td>\n",
       "      <td>35</td>\n",
       "      <td>30</td>\n",
       "      <td>3</td>\n",
       "      <td>5</td>\n",
       "      <td>1</td>\n",
       "      <td>0</td>\n",
       "      <td>2</td>\n",
       "      <td>3</td>\n",
       "      <td>2</td>\n",
       "      <td>...</td>\n",
       "      <td>2.0</td>\n",
       "      <td>72</td>\n",
       "      <td>93</td>\n",
       "      <td>34</td>\n",
       "      <td>9.680771e-01</td>\n",
       "      <td>-0.250653</td>\n",
       "      <td>0.866025</td>\n",
       "      <td>-5.000000e-01</td>\n",
       "      <td>-1.868034e-02</td>\n",
       "      <td>0.999826</td>\n",
       "    </tr>\n",
       "    <tr>\n",
       "      <th>15900</th>\n",
       "      <td>0</td>\n",
       "      <td>26</td>\n",
       "      <td>27</td>\n",
       "      <td>9</td>\n",
       "      <td>0</td>\n",
       "      <td>6</td>\n",
       "      <td>4</td>\n",
       "      <td>2</td>\n",
       "      <td>6</td>\n",
       "      <td>1</td>\n",
       "      <td>...</td>\n",
       "      <td>1.0</td>\n",
       "      <td>72</td>\n",
       "      <td>62</td>\n",
       "      <td>34</td>\n",
       "      <td>-9.680771e-01</td>\n",
       "      <td>-0.250653</td>\n",
       "      <td>-0.500000</td>\n",
       "      <td>-8.660254e-01</td>\n",
       "      <td>-3.735415e-02</td>\n",
       "      <td>0.999302</td>\n",
       "    </tr>\n",
       "    <tr>\n",
       "      <th>15901</th>\n",
       "      <td>0</td>\n",
       "      <td>21</td>\n",
       "      <td>23</td>\n",
       "      <td>4</td>\n",
       "      <td>1</td>\n",
       "      <td>2</td>\n",
       "      <td>7</td>\n",
       "      <td>1</td>\n",
       "      <td>6</td>\n",
       "      <td>2</td>\n",
       "      <td>...</td>\n",
       "      <td>2.0</td>\n",
       "      <td>92</td>\n",
       "      <td>62</td>\n",
       "      <td>34</td>\n",
       "      <td>5.712682e-01</td>\n",
       "      <td>0.820763</td>\n",
       "      <td>-0.866025</td>\n",
       "      <td>-5.000000e-01</td>\n",
       "      <td>-2.801847e-02</td>\n",
       "      <td>0.999607</td>\n",
       "    </tr>\n",
       "    <tr>\n",
       "      <th>15902</th>\n",
       "      <td>0</td>\n",
       "      <td>4</td>\n",
       "      <td>4</td>\n",
       "      <td>6</td>\n",
       "      <td>5</td>\n",
       "      <td>4</td>\n",
       "      <td>2</td>\n",
       "      <td>5</td>\n",
       "      <td>6</td>\n",
       "      <td>1</td>\n",
       "      <td>...</td>\n",
       "      <td>1.0</td>\n",
       "      <td>72</td>\n",
       "      <td>29</td>\n",
       "      <td>34</td>\n",
       "      <td>-9.884683e-01</td>\n",
       "      <td>0.151428</td>\n",
       "      <td>0.500000</td>\n",
       "      <td>8.660254e-01</td>\n",
       "      <td>-6.844500e-02</td>\n",
       "      <td>0.997655</td>\n",
       "    </tr>\n",
       "  </tbody>\n",
       "</table>\n",
       "<p>15903 rows × 21 columns</p>\n",
       "</div>"
      ],
      "text/plain": [
       "       X_1  X_2  X_3  X_4  X_5  X_6  X_7  X_8  X_9  X_10  ...  X_12  X_13  \\\n",
       "0        0   30   35    7    3    6    4    0    5     1  ...   NaN    72   \n",
       "1        0   44   44    1    3    7    1    4    6     1  ...   0.0    12   \n",
       "2        0   34   33    3    5    2    7    3    0     1  ...   1.0    72   \n",
       "3        7    3    2    3    5    9    8    0    5     1  ...   1.0   112   \n",
       "4        0    7    8    7    3    2    7    1    5     1  ...   0.0   112   \n",
       "...    ...  ...  ...  ...  ...  ...  ...  ...  ...   ...  ...   ...   ...   \n",
       "15898    1   22   22    7    3   15   10    0    5     1  ...   0.0    72   \n",
       "15899    0   35   30    3    5    1    0    2    3     2  ...   2.0    72   \n",
       "15900    0   26   27    9    0    6    4    2    6     1  ...   1.0    72   \n",
       "15901    0   21   23    4    1    2    7    1    6     2  ...   2.0    92   \n",
       "15902    0    4    4    6    5    4    2    5    6     1  ...   1.0    72   \n",
       "\n",
       "       X_14  X_15       DAY_sin   DAY_cos  MONTH_sin     MONTH_cos  \\\n",
       "0       119    23  2.012985e-01  0.979530  -0.500000 -8.660254e-01   \n",
       "1        29    34  8.486443e-01  0.528964  -0.500000 -8.660254e-01   \n",
       "2         0    34 -7.247928e-01  0.688967   1.000000  6.123234e-17   \n",
       "3        87    34 -4.853020e-01 -0.874347   0.866025  5.000000e-01   \n",
       "4        93    43 -2.449294e-16  1.000000   0.866025 -5.000000e-01   \n",
       "...     ...   ...           ...       ...        ...           ...   \n",
       "15898    29    43 -5.712682e-01  0.820763   1.000000  6.123234e-17   \n",
       "15899    93    34  9.680771e-01 -0.250653   0.866025 -5.000000e-01   \n",
       "15900    62    34 -9.680771e-01 -0.250653  -0.500000 -8.660254e-01   \n",
       "15901    62    34  5.712682e-01  0.820763  -0.866025 -5.000000e-01   \n",
       "15902    29    34 -9.884683e-01  0.151428   0.500000  8.660254e-01   \n",
       "\n",
       "           YEAR_sin  YEAR_cos  \n",
       "0     -2.449294e-16  1.000000  \n",
       "1     -4.357618e-02  0.999050  \n",
       "2     -2.449294e-16  1.000000  \n",
       "3     -3.735415e-02  0.999302  \n",
       "4     -2.179327e-02  0.999762  \n",
       "...             ...       ...  \n",
       "15898 -6.533840e-02  0.997863  \n",
       "15899 -1.868034e-02  0.999826  \n",
       "15900 -3.735415e-02  0.999302  \n",
       "15901 -2.801847e-02  0.999607  \n",
       "15902 -6.844500e-02  0.997655  \n",
       "\n",
       "[15903 rows x 21 columns]"
      ]
     },
     "execution_count": 22,
     "metadata": {},
     "output_type": "execute_result"
    }
   ],
   "source": [
    "code_cyclic_features(nv_test,['DAY','MONTH','YEAR'])"
   ]
  },
  {
   "cell_type": "code",
   "execution_count": 23,
   "metadata": {},
   "outputs": [],
   "source": [
    "import seaborn as sns"
   ]
  },
  {
   "cell_type": "code",
   "execution_count": 24,
   "metadata": {},
   "outputs": [
    {
     "data": {
      "text/plain": [
       "[]"
      ]
     },
     "execution_count": 24,
     "metadata": {},
     "output_type": "execute_result"
    },
    {
     "data": {
      "image/png": "[encoded data removed]",
      "text/plain": [
       "<Figure size 432x288 with 1 Axes>"
      ]
     },
     "metadata": {
      "needs_background": "light"
     },
     "output_type": "display_data"
    }
   ],
   "source": [
    "sns.scatterplot(nv_train['DAY_sin'],nv_train['DAY_cos']).plot()"
   ]
  },
  {
   "cell_type": "code",
   "execution_count": null,
   "metadata": {},
   "outputs": [],
   "source": [
    "sns.scatterplot(nv_train['MONTH_sin'],nv_train['MONTH_cos']).plot()"
   ]
  },
  {
   "cell_type": "code",
   "execution_count": null,
   "metadata": {},
   "outputs": [],
   "source": [
    "sns.scatterplot(nv_train['YEAR_sin'],nv_train['YEAR_cos']).plot()"
   ]
  },
  {
   "cell_type": "code",
   "execution_count": null,
   "metadata": {},
   "outputs": [],
   "source": [
    "nv_test.dtypes"
   ]
  },
  {
   "cell_type": "code",
   "execution_count": null,
   "metadata": {},
   "outputs": [],
   "source": [
    "print(nv_train.shape,nv_test.shape)"
   ]
  },
  {
   "cell_type": "code",
   "execution_count": null,
   "metadata": {},
   "outputs": [],
   "source": [
    "nv_train.isnull().sum()"
   ]
  },
  {
   "cell_type": "code",
   "execution_count": null,
   "metadata": {},
   "outputs": [],
   "source": [
    "nv_test.isnull().sum()"
   ]
  },
  {
   "cell_type": "code",
   "execution_count": null,
   "metadata": {},
   "outputs": [],
   "source": [
    "nv_train['X_12'].value_counts()"
   ]
  },
  {
   "cell_type": "code",
   "execution_count": 23,
   "metadata": {},
   "outputs": [],
   "source": [
    "nv_train.loc[nv_train['X_12'].isnull(),'X_12']=nv_train.loc[nv_train['X_12']==1.0,'X_12'].mean()"
   ]
  },
  {
   "cell_type": "code",
   "execution_count": 24,
   "metadata": {},
   "outputs": [],
   "source": [
    "nv_test.loc[nv_test['X_12'].isnull(),'X_12']=nv_test.loc[nv_test['X_12']==1.0,'X_12'].mean()"
   ]
  },
  {
   "cell_type": "code",
   "execution_count": 25,
   "metadata": {},
   "outputs": [],
   "source": [
    "nv_train.reset_index(drop=True,inplace=True)\n",
    "nv_test.reset_index(drop=True,inplace=True)"
   ]
  },
  {
   "cell_type": "code",
   "execution_count": 26,
   "metadata": {},
   "outputs": [],
   "source": [
    "x_train=nv_train.drop(['MULTIPLE_OFFENSE'],axis=1)\n",
    "y_train=nv_train['MULTIPLE_OFFENSE']"
   ]
  },
  {
   "cell_type": "code",
   "execution_count": 27,
   "metadata": {},
   "outputs": [],
   "source": [
    "x_test=nv_test"
   ]
  },
  {
   "cell_type": "code",
   "execution_count": 28,
   "metadata": {},
   "outputs": [
    {
     "name": "stdout",
     "output_type": "stream",
     "text": [
      "(23856, 21) (15903, 21)\n"
     ]
    }
   ],
   "source": [
    "print(x_train.shape,x_test.shape)"
   ]
  },
  {
   "cell_type": "code",
   "execution_count": null,
   "metadata": {},
   "outputs": [],
   "source": [
    "#Feature Engineering"
   ]
  },
  {
   "cell_type": "code",
   "execution_count": 28,
   "metadata": {},
   "outputs": [
    {
     "data": {
      "text/plain": [
       "ExtraTreesClassifier()"
      ]
     },
     "execution_count": 28,
     "metadata": {},
     "output_type": "execute_result"
    }
   ],
   "source": [
    "from sklearn.ensemble import ExtraTreesClassifier\n",
    "import matplotlib.pyplot as plt\n",
    "model = ExtraTreesClassifier()\n",
    "model.fit(x_train,y_train)"
   ]
  },
  {
   "cell_type": "code",
   "execution_count": 29,
   "metadata": {},
   "outputs": [
    {
     "data": {
      "image/png": "[encoded data removed]",
      "text/plain": [
       "<Figure size 432x288 with 1 Axes>"
      ]
     },
     "metadata": {
      "needs_background": "light"
     },
     "output_type": "display_data"
    }
   ],
   "source": [
    "#plot graph of feature importances for better visualization\n",
    "feat_importances = pd.Series(model.feature_importances_, index=x_train.columns)\n",
    "feat_importances.nlargest(16).plot(kind='barh')\n",
    "plt.show()"
   ]
  },
  {
   "cell_type": "code",
   "execution_count": 30,
   "metadata": {},
   "outputs": [],
   "source": [
    "%matplotlib inline\n",
    "import warnings\n",
    "warnings.filterwarnings('ignore')\n",
    "import matplotlib.pyplot as plt\n",
    "plt.style.use('ggplot')"
   ]
  },
  {
   "cell_type": "code",
   "execution_count": 32,
   "metadata": {},
   "outputs": [
    {
     "name": "stdout",
     "output_type": "stream",
     "text": [
      "Collecting package metadata (current_repodata.json): done\n",
      "Solving environment: done\n",
      "\n",
      "## Package Plan ##\n",
      "\n",
      "  environment location: /opt/conda\n",
      "\n",
      "  added / updated specs:\n",
      "    - skater\n",
      "\n",
      "\n",
      "The following packages will be downloaded:\n",
      "\n",
      "    package                    |            build\n",
      "    ---------------------------|-----------------\n",
      "    ca-certificates-2020.4.5.2 |       hecda079_0         147 KB  conda-forge\n",
      "    certifi-2020.4.5.2         |   py37hc8dfbb8_0         152 KB  conda-forge\n",
      "    dill-0.3.2                 |     pyh9f0ad1d_0          59 KB  conda-forge\n",
      "    ds-lime-0.1.1.27           |             py_1         214 KB  conda-forge\n",
      "    multiprocess-0.70.10       |   py37h8f50634_0         178 KB  conda-forge\n",
      "    pathos-0.2.5               |             py_0          48 KB  conda-forge\n",
      "    pox-0.2.8                  |     pyh9f0ad1d_0          23 KB  conda-forge\n",
      "    ppft-1.6.6.1               |   py37hc8dfbb8_1          58 KB  conda-forge\n",
      "    skater-1.0.2               |        py37_1001          67 KB  conda-forge\n",
      "    ------------------------------------------------------------\n",
      "                                           Total:         947 KB\n",
      "\n",
      "The following NEW packages will be INSTALLED:\n",
      "\n",
      "  dill               conda-forge/noarch::dill-0.3.2-pyh9f0ad1d_0\n",
      "  ds-lime            conda-forge/noarch::ds-lime-0.1.1.27-py_1\n",
      "  multiprocess       conda-forge/linux-64::multiprocess-0.70.10-py37h8f50634_0\n",
      "  pathos             conda-forge/noarch::pathos-0.2.5-py_0\n",
      "  pox                conda-forge/noarch::pox-0.2.8-pyh9f0ad1d_0\n",
      "  ppft               conda-forge/linux-64::ppft-1.6.6.1-py37hc8dfbb8_1\n",
      "  skater             conda-forge/linux-64::skater-1.0.2-py37_1001\n",
      "\n",
      "The following packages will be UPDATED:\n",
      "\n",
      "  ca-certificates                     2020.4.5.1-hecc5488_0 --> 2020.4.5.2-hecda079_0\n",
      "  certifi                         2020.4.5.1-py37hc8dfbb8_0 --> 2020.4.5.2-py37hc8dfbb8_0\n",
      "\n",
      "\n",
      "\n",
      "Downloading and Extracting Packages\n",
      "ds-lime-0.1.1.27     | 214 KB    | ##################################### | 100% \n",
      "multiprocess-0.70.10 | 178 KB    | ##################################### | 100% \n",
      "ca-certificates-2020 | 147 KB    | ##################################### | 100% \n",
      "certifi-2020.4.5.2   | 152 KB    | ##################################### | 100% \n",
      "pox-0.2.8            | 23 KB     | ##################################### | 100% \n",
      "ppft-1.6.6.1         | 58 KB     | ##################################### | 100% \n",
      "pathos-0.2.5         | 48 KB     | ##################################### | 100% \n",
      "dill-0.3.2           | 59 KB     | ##################################### | 100% \n",
      "skater-1.0.2         | 67 KB     | ##################################### | 100% \n",
      "Preparing transaction: done\n",
      "Verifying transaction: done\n",
      "Executing transaction: done\n",
      "\n",
      "Note: you may need to restart the kernel to use updated packages.\n"
     ]
    }
   ],
   "source": [
    "conda install --yes -c conda-forge skater"
   ]
  },
  {
   "cell_type": "code",
   "execution_count": 33,
   "metadata": {},
   "outputs": [],
   "source": [
    "from skater.core.explanations import Interpretation\n",
    "from skater.model import InMemoryModel"
   ]
  },
  {
   "cell_type": "code",
   "execution_count": 30,
   "metadata": {},
   "outputs": [],
   "source": [
    "x=x_train\n",
    "y=y_train"
   ]
  },
  {
   "cell_type": "code",
   "execution_count": 37,
   "metadata": {},
   "outputs": [],
   "source": [
    "rf=RandomForestClassifier(**{'criterion': 'entropy', 'max_depth': 15, 'max_features': 10, 'n_estimators': 500})"
   ]
  },
  {
   "cell_type": "code",
   "execution_count": 38,
   "metadata": {},
   "outputs": [
    {
     "data": {
      "text/plain": [
       "RandomForestClassifier(criterion='entropy', max_depth=15, max_features=10,\n",
       "                       n_estimators=500)"
      ]
     },
     "execution_count": 38,
     "metadata": {},
     "output_type": "execute_result"
    }
   ],
   "source": [
    "rf.fit(x,y)"
   ]
  },
  {
   "cell_type": "code",
   "execution_count": 39,
   "metadata": {},
   "outputs": [
    {
     "name": "stdout",
     "output_type": "stream",
     "text": [
      "[21/21] features ████████████████████ Time elapsed: 18 seconds"
     ]
    },
    {
     "data": {
      "image/png": "[encoded data removed]",
      "text/plain": [
       "<Figure size 432x288 with 1 Axes>"
      ]
     },
     "metadata": {},
     "output_type": "display_data"
    }
   ],
   "source": [
    "interpreter = Interpretation(x, feature_names=x.columns)\n",
    "model = InMemoryModel(rf.predict_proba, examples=x)\n",
    "plots = interpreter.feature_importance.plot_feature_importance(model, ascending=True)"
   ]
  },
  {
   "cell_type": "code",
   "execution_count": 39,
   "metadata": {},
   "outputs": [
    {
     "data": {
      "text/plain": [
       "array([0, 1])"
      ]
     },
     "execution_count": 39,
     "metadata": {},
     "output_type": "execute_result"
    }
   ],
   "source": [
    "rf.classes_"
   ]
  },
  {
   "cell_type": "code",
   "execution_count": 60,
   "metadata": {},
   "outputs": [
    {
     "name": "stdout",
     "output_type": "stream",
     "text": [
      "[24/24] grid cells ████████████████████ Time elapsed: 8 seconds"
     ]
    },
    {
     "data": {
      "image/png": "[encoded data removed]",
      "text/plain": [
       "<Figure size 720x360 with 1 Axes>"
      ]
     },
     "metadata": {
      "needs_background": "light"
     },
     "output_type": "display_data"
    }
   ],
   "source": [
    "pyint_model = InMemoryModel(rf.predict_proba, examples=x, target_names=['Y_0','Y_1'])\n",
    "axes_list = interpreter.partial_dependence.plot_partial_dependence(['X_10'],\n",
    "                                                                   pyint_model, \n",
    "                                                                   grid_resolution=30, \n",
    "                                                                   with_variance=True,\n",
    "                                                                   figsize = (10, 5))"
   ]
  },
  {
   "cell_type": "code",
   "execution_count": 41,
   "metadata": {},
   "outputs": [
    {
     "name": "stdout",
     "output_type": "stream",
     "text": [
      "[28/28] grid cells ████████████████████ Time elapsed: 4 seconds"
     ]
    },
    {
     "data": {
      "image/png": "[encoded data removed]",
      "text/plain": [
       "<Figure size 720x360 with 1 Axes>"
      ]
     },
     "metadata": {
      "needs_background": "light"
     },
     "output_type": "display_data"
    }
   ],
   "source": [
    "axes_list = interpreter.partial_dependence.plot_partial_dependence(['YEAR_cos'],\n",
    "                                                                   pyint_model, \n",
    "                                                                   grid_resolution=30, \n",
    "                                                                   with_variance=True,\n",
    "                                                                   figsize = (10, 5))"
   ]
  },
  {
   "cell_type": "code",
   "execution_count": 42,
   "metadata": {},
   "outputs": [
    {
     "name": "stdout",
     "output_type": "stream",
     "text": [
      "[6/6] grid cells ████████████████████ Time elapsed: 1 seconds"
     ]
    },
    {
     "data": {
      "text/plain": [
       "[[<Figure size 1152x720 with 2 Axes>,\n",
       "  <matplotlib.axes._subplots.Axes3DSubplot at 0x7f960c96ad10>]]"
      ]
     },
     "execution_count": 42,
     "metadata": {},
     "output_type": "execute_result"
    },
    {
     "data": {
      "image/png": "[encoded data removed]",
      "text/plain": [
       "<Figure size 1152x720 with 2 Axes>"
      ]
     },
     "metadata": {
      "needs_background": "light"
     },
     "output_type": "display_data"
    }
   ],
   "source": [
    "model = InMemoryModel(rf.predict_proba, examples=x, target_names=['Y_0', 'Y_1'])\n",
    "interpreter.partial_dependence.plot_partial_dependence([('X_10', 'X_12')], model, \n",
    "                                                       grid_resolution=10)"
   ]
  },
  {
   "cell_type": "code",
   "execution_count": null,
   "metadata": {},
   "outputs": [],
   "source": []
  },
  {
   "cell_type": "code",
   "execution_count": 45,
   "metadata": {},
   "outputs": [
    {
     "name": "stdout",
     "output_type": "stream",
     "text": [
      "[100/100] grid cells ████████████████████ Time elapsed: 6 seconds"
     ]
    },
    {
     "data": {
      "text/plain": [
       "[[<Figure size 1152x720 with 2 Axes>,\n",
       "  <matplotlib.axes._subplots.Axes3DSubplot at 0x7f95f69ea590>]]"
      ]
     },
     "execution_count": 45,
     "metadata": {},
     "output_type": "execute_result"
    },
    {
     "data": {
      "image/png": "[encoded data removed]",
      "text/plain": [
       "<Figure size 1152x720 with 2 Axes>"
      ]
     },
     "metadata": {
      "needs_background": "light"
     },
     "output_type": "display_data"
    }
   ],
   "source": [
    "model = InMemoryModel(rf.predict_proba, examples=x, target_names=['Y_0', 'Y_1'])\n",
    "interpreter.partial_dependence.plot_partial_dependence([('YEAR_cos', 'DAY_cos')], model, \n",
    "                                                       grid_resolution=10)"
   ]
  },
  {
   "cell_type": "code",
   "execution_count": 49,
   "metadata": {},
   "outputs": [
    {
     "name": "stdout",
     "output_type": "stream",
     "text": [
      "Collecting package metadata (current_repodata.json): done\n",
      "Solving environment: done\n",
      "\n",
      "## Package Plan ##\n",
      "\n",
      "  environment location: /opt/conda\n",
      "\n",
      "  added / updated specs:\n",
      "    - keras\n",
      "\n",
      "\n",
      "The following packages will be downloaded:\n",
      "\n",
      "    package                    |            build\n",
      "    ---------------------------|-----------------\n",
      "    _tflow_select-2.3.0        |              mkl           2 KB\n",
      "    absl-py-0.9.0              |   py37hc8dfbb8_1         162 KB  conda-forge\n",
      "    astunparse-1.6.3           |             py_0          17 KB\n",
      "    binutils_impl_linux-64-2.31.1|       h6176602_1         3.9 MB\n",
      "    binutils_linux-64-2.31.1   |       h6176602_9          26 KB\n",
      "    gast-0.3.3                 |             py_0          12 KB  conda-forge\n",
      "    gcc_impl_linux-64-7.3.0    |       habb00fd_1        41.9 MB\n",
      "    gcc_linux-64-7.3.0         |       h553295d_9          27 KB\n",
      "    google-pasta-0.2.0         |     pyh8c360ce_0          42 KB  conda-forge\n",
      "    grpcio-1.27.2              |   py37hf8bcb03_0         1.3 MB\n",
      "    gxx_impl_linux-64-7.3.0    |       hdf63c60_1        15.0 MB\n",
      "    gxx_linux-64-7.3.0         |       h553295d_9          26 KB\n",
      "    keras-2.3.1                |           py37_0         591 KB  conda-forge\n",
      "    keras-applications-1.0.8   |             py_1          30 KB  conda-forge\n",
      "    keras-preprocessing-1.1.0  |             py_0          33 KB  conda-forge\n",
      "    libgpuarray-0.7.6          |    h14c3975_1003         263 KB  conda-forge\n",
      "    mako-1.1.0                 |             py_0          57 KB  conda-forge\n",
      "    opt_einsum-3.2.1           |             py_0          49 KB  conda-forge\n",
      "    pygpu-0.7.6                |py37hc1659b7_1000         680 KB  conda-forge\n",
      "    tensorboard-2.2.1          |     pyh532a8cf_0         2.4 MB\n",
      "    tensorboard-plugin-wit-1.6.0|             py_0         630 KB\n",
      "    tensorflow-2.2.0           |mkl_py37h6e9ce2d_0           4 KB\n",
      "    tensorflow-base-2.2.0      |mkl_py37hd506778_0       129.6 MB\n",
      "    tensorflow-estimator-2.2.0 |     pyh208ff02_0         254 KB\n",
      "    termcolor-1.1.0            |             py_2           6 KB  conda-forge\n",
      "    theano-1.0.4               |py37he1b5a44_1001         3.7 MB  conda-forge\n",
      "    ------------------------------------------------------------\n",
      "                                           Total:       200.6 MB\n",
      "\n",
      "The following NEW packages will be INSTALLED:\n",
      "\n",
      "  _tflow_select      pkgs/main/linux-64::_tflow_select-2.3.0-mkl\n",
      "  absl-py            conda-forge/linux-64::absl-py-0.9.0-py37hc8dfbb8_1\n",
      "  astunparse         pkgs/main/noarch::astunparse-1.6.3-py_0\n",
      "  binutils_impl_lin~ pkgs/main/linux-64::binutils_impl_linux-64-2.31.1-h6176602_1\n",
      "  binutils_linux-64  pkgs/main/linux-64::binutils_linux-64-2.31.1-h6176602_9\n",
      "  gast               conda-forge/noarch::gast-0.3.3-py_0\n",
      "  gcc_impl_linux-64  pkgs/main/linux-64::gcc_impl_linux-64-7.3.0-habb00fd_1\n",
      "  gcc_linux-64       pkgs/main/linux-64::gcc_linux-64-7.3.0-h553295d_9\n",
      "  google-pasta       conda-forge/noarch::google-pasta-0.2.0-pyh8c360ce_0\n",
      "  gxx_impl_linux-64  pkgs/main/linux-64::gxx_impl_linux-64-7.3.0-hdf63c60_1\n",
      "  gxx_linux-64       pkgs/main/linux-64::gxx_linux-64-7.3.0-h553295d_9\n",
      "  keras              conda-forge/linux-64::keras-2.3.1-py37_0\n",
      "  keras-applications conda-forge/noarch::keras-applications-1.0.8-py_1\n",
      "  keras-preprocessi~ conda-forge/noarch::keras-preprocessing-1.1.0-py_0\n",
      "  libgpuarray        conda-forge/linux-64::libgpuarray-0.7.6-h14c3975_1003\n",
      "  mako               conda-forge/noarch::mako-1.1.0-py_0\n",
      "  opt_einsum         conda-forge/noarch::opt_einsum-3.2.1-py_0\n",
      "  pygpu              conda-forge/linux-64::pygpu-0.7.6-py37hc1659b7_1000\n",
      "  tensorboard        pkgs/main/noarch::tensorboard-2.2.1-pyh532a8cf_0\n",
      "  tensorboard-plugi~ pkgs/main/noarch::tensorboard-plugin-wit-1.6.0-py_0\n",
      "  tensorflow         pkgs/main/linux-64::tensorflow-2.2.0-mkl_py37h6e9ce2d_0\n",
      "  tensorflow-base    pkgs/main/linux-64::tensorflow-base-2.2.0-mkl_py37hd506778_0\n",
      "  tensorflow-estima~ pkgs/main/noarch::tensorflow-estimator-2.2.0-pyh208ff02_0\n",
      "  termcolor          conda-forge/noarch::termcolor-1.1.0-py_2\n",
      "  theano             conda-forge/linux-64::theano-1.0.4-py37he1b5a44_1001\n",
      "\n",
      "The following packages will be UPDATED:\n",
      "\n",
      "  grpcio             conda-forge::grpcio-1.23.0-py37hb0870~ --> pkgs/main::grpcio-1.27.2-py37hf8bcb03_0\n",
      "\n",
      "\n",
      "\n",
      "Downloading and Extracting Packages\n",
      "absl-py-0.9.0        | 162 KB    | ##################################### | 100% \n",
      "opt_einsum-3.2.1     | 49 KB     | ##################################### | 100% \n",
      "tensorboard-2.2.1    | 2.4 MB    | ##################################### | 100% \n",
      "gcc_impl_linux-64-7. | 41.9 MB   | ##################################### | 100% \n",
      "binutils_impl_linux- | 3.9 MB    | ##################################### | 100% \n",
      "grpcio-1.27.2        | 1.3 MB    | ##################################### | 100% \n",
      "termcolor-1.1.0      | 6 KB      | ##################################### | 100% \n",
      "tensorflow-estimator | 254 KB    | ##################################### | 100% \n",
      "libgpuarray-0.7.6    | 263 KB    | ##################################### | 100% \n",
      "google-pasta-0.2.0   | 42 KB     | ##################################### | 100% \n",
      "gxx_linux-64-7.3.0   | 26 KB     | ##################################### | 100% \n",
      "gxx_impl_linux-64-7. | 15.0 MB   | ##################################### | 100% \n",
      "binutils_linux-64-2. | 26 KB     | ##################################### | 100% \n",
      "pygpu-0.7.6          | 680 KB    | ##################################### | 100% \n",
      "gast-0.3.3           | 12 KB     | ##################################### | 100% \n",
      "tensorboard-plugin-w | 630 KB    | ##################################### | 100% \n",
      "keras-applications-1 | 30 KB     | ##################################### | 100% \n",
      "keras-2.3.1          | 591 KB    | ##################################### | 100% \n",
      "astunparse-1.6.3     | 17 KB     | ##################################### | 100% \n",
      "theano-1.0.4         | 3.7 MB    | ##################################### | 100% \n",
      "keras-preprocessing- | 33 KB     | ##################################### | 100% \n",
      "tensorflow-base-2.2. | 129.6 MB  | ##################################### | 100% \n",
      "tensorflow-2.2.0     | 4 KB      | ##################################### | 100% \n",
      "_tflow_select-2.3.0  | 2 KB      | ##################################### | 100% \n",
      "gcc_linux-64-7.3.0   | 27 KB     | ##################################### | 100% \n",
      "mako-1.1.0           | 57 KB     | ##################################### | 100% \n",
      "Preparing transaction: done\n",
      "Verifying transaction: done\n",
      "Executing transaction: done\n",
      "\n",
      "Note: you may need to restart the kernel to use updated packages.\n"
     ]
    }
   ],
   "source": [
    "conda install keras"
   ]
  },
  {
   "cell_type": "code",
   "execution_count": 2,
   "metadata": {},
   "outputs": [
    {
     "name": "stdout",
     "output_type": "stream",
     "text": [
      "Requirement already satisfied: skater in e:\\programdata\\anaconda3\\envs\\tensorflow\\lib\\site-packages (1.0.2)\n",
      "Requirement already satisfied: scikit-learn>=0.18 in e:\\programdata\\anaconda3\\envs\\tensorflow\\lib\\site-packages (from skater) (0.23.1)\n",
      "Requirement already satisfied: pandas>=0.19 in e:\\programdata\\anaconda3\\envs\\tensorflow\\lib\\site-packages (from skater) (1.1.0)\n",
      "Requirement already satisfied: ds-lime>=0.1.1.21 in e:\\programdata\\anaconda3\\envs\\tensorflow\\lib\\site-packages (from skater) (0.1.1.27)\n",
      "Requirement already satisfied: requests in e:\\programdata\\anaconda3\\envs\\tensorflow\\lib\\site-packages (from skater) (2.24.0)\n",
      "Collecting pathos==0.2.0\n",
      "  Downloading pathos-0.2.0.tgz (68 kB)\n",
      "Requirement already satisfied: dill>=0.2.6 in e:\\programdata\\anaconda3\\envs\\tensorflow\\lib\\site-packages (from skater) (0.3.2)\n",
      "Requirement already satisfied: scipy>=0.19.1 in e:\\programdata\\anaconda3\\envs\\tensorflow\\lib\\site-packages (from scikit-learn>=0.18->skater) (1.5.0)\n",
      "Requirement already satisfied: joblib>=0.11 in e:\\programdata\\anaconda3\\envs\\tensorflow\\lib\\site-packages (from scikit-learn>=0.18->skater) (0.16.0)\n",
      "Requirement already satisfied: threadpoolctl>=2.0.0 in e:\\programdata\\anaconda3\\envs\\tensorflow\\lib\\site-packages (from scikit-learn>=0.18->skater) (2.1.0)\n",
      "Requirement already satisfied: numpy>=1.13.3 in e:\\programdata\\anaconda3\\envs\\tensorflow\\lib\\site-packages (from scikit-learn>=0.18->skater) (1.19.1)\n",
      "Requirement already satisfied: pytz>=2017.2 in e:\\programdata\\anaconda3\\envs\\tensorflow\\lib\\site-packages (from pandas>=0.19->skater) (2020.1)\n",
      "Requirement already satisfied: python-dateutil>=2.7.3 in e:\\programdata\\anaconda3\\envs\\tensorflow\\lib\\site-packages (from pandas>=0.19->skater) (2.8.1)\n",
      "Requirement already satisfied: chardet<4,>=3.0.2 in e:\\programdata\\anaconda3\\envs\\tensorflow\\lib\\site-packages (from requests->skater) (3.0.4)"
     ]
    },
    {
     "name": "stderr",
     "output_type": "stream",
     "text": [
      "The system cannot find the path specified.\n"
     ]
    },
    {
     "name": "stdout",
     "output_type": "stream",
     "text": [
      "\n",
      "Requirement already satisfied: certifi>=2017.4.17 in e:\\programdata\\anaconda3\\envs\\tensorflow\\lib\\site-packages (from requests->skater) (2020.6.20)\n",
      "Requirement already satisfied: idna<3,>=2.5 in e:\\programdata\\anaconda3\\envs\\tensorflow\\lib\\site-packages (from requests->skater) (2.10)\n",
      "Requirement already satisfied: urllib3!=1.25.0,!=1.25.1,<1.26,>=1.21.1 in e:\\programdata\\anaconda3\\envs\\tensorflow\\lib\\site-packages (from requests->skater) (1.25.10)\n",
      "Requirement already satisfied: ppft>=1.6.4.5 in e:\\programdata\\anaconda3\\envs\\tensorflow\\lib\\site-packages (from pathos==0.2.0->skater) (1.6.6.1)\n",
      "Requirement already satisfied: pox>=0.2.2 in e:\\programdata\\anaconda3\\envs\\tensorflow\\lib\\site-packages (from pathos==0.2.0->skater) (0.2.8)\n",
      "Requirement already satisfied: multiprocess>=0.70.4 in e:\\programdata\\anaconda3\\envs\\tensorflow\\lib\\site-packages (from pathos==0.2.0->skater) (0.70.10)\n",
      "Requirement already satisfied: six>=1.5 in e:\\programdata\\anaconda3\\envs\\tensorflow\\lib\\site-packages (from python-dateutil>=2.7.3->pandas>=0.19->skater) (1.15.0)\n",
      "Building wheels for collected packages: pathos\n",
      "  Building wheel for pathos (setup.py): started\n",
      "  Building wheel for pathos (setup.py): finished with status 'done'\n",
      "  Created wheel for pathos: filename=pathos-0.2.0-py3-none-any.whl size=68481 sha256=86e01d27769c989cb178f5791e68a2591d486e73bdffcb5f3427ba64d241f5ee\n",
      "  Stored in directory: c:\\users\\jaison\\appdata\\local\\pip\\cache\\wheels\\ed\\aa\\b6\\f1cb756fcfc30d9d1dd70d7b5a385d7c90f6397db8250ea183\n",
      "Successfully built pathos\n",
      "Installing collected packages: pathos\n",
      "  Attempting uninstall: pathos\n",
      "    Found existing installation: pathos 0.2.6\n",
      "    Uninstalling pathos-0.2.6:\n",
      "      Successfully uninstalled pathos-0.2.6\n",
      "Successfully installed pathos-0.2.0\n"
     ]
    }
   ],
   "source": [
    "!pip install skater"
   ]
  },
  {
   "cell_type": "code",
   "execution_count": 3,
   "metadata": {},
   "outputs": [
    {
     "ename": "ImportError",
     "evalue": "cannot import name 'show' from 'skater.util.dataops' (E:\\ProgramData\\Anaconda3\\envs\\tensorflow\\lib\\site-packages\\skater\\util\\dataops.py)",
     "output_type": "error",
     "traceback": [
      "\u001b[1;31m---------------------------------------------------------------------------\u001b[0m",
      "\u001b[1;31mImportError\u001b[0m                               Traceback (most recent call last)",
      "\u001b[1;32m<ipython-input-3-a6639c602225>\u001b[0m in \u001b[0;36m<module>\u001b[1;34m\u001b[0m\n\u001b[1;32m----> 1\u001b[1;33m \u001b[1;32mfrom\u001b[0m \u001b[0mskater\u001b[0m\u001b[1;33m.\u001b[0m\u001b[0mutil\u001b[0m\u001b[1;33m.\u001b[0m\u001b[0mdataops\u001b[0m \u001b[1;32mimport\u001b[0m \u001b[0mshow\u001b[0m\u001b[1;33m\u001b[0m\u001b[1;33m\u001b[0m\u001b[0m\n\u001b[0m",
      "\u001b[1;31mImportError\u001b[0m: cannot import name 'show' from 'skater.util.dataops' (E:\\ProgramData\\Anaconda3\\envs\\tensorflow\\lib\\site-packages\\skater\\util\\dataops.py)"
     ]
    }
   ],
   "source": [
    "from skater.util.dataops import show"
   ]
  },
  {
   "cell_type": "code",
   "execution_count": 39,
   "metadata": {},
   "outputs": [
    {
     "name": "stdout",
     "output_type": "stream",
     "text": [
      "Collecting package metadata (current_repodata.json): done\n",
      "Solving environment: failed with initial frozen solve. Retrying with flexible solve.\n",
      "Collecting package metadata (repodata.json): done\n",
      "Solving environment: failed with initial frozen solve. Retrying with flexible solve.\n",
      "\n",
      "PackagesNotFoundError: The following packages are not available from current channels:\n",
      "\n",
      "  - dataops\n",
      "\n",
      "Current channels:\n",
      "\n",
      "  - https://conda.anaconda.org/rapidsai/linux-64\n",
      "  - https://conda.anaconda.org/rapidsai/noarch\n",
      "  - https://conda.anaconda.org/pytorch/linux-64\n",
      "  - https://conda.anaconda.org/pytorch/noarch\n",
      "  - https://conda.anaconda.org/nvidia/linux-64\n",
      "  - https://conda.anaconda.org/nvidia/noarch\n",
      "  - https://conda.anaconda.org/conda-forge/linux-64\n",
      "  - https://conda.anaconda.org/conda-forge/noarch\n",
      "  - https://repo.anaconda.com/pkgs/main/linux-64\n",
      "  - https://repo.anaconda.com/pkgs/main/noarch\n",
      "  - https://repo.anaconda.com/pkgs/r/linux-64\n",
      "  - https://repo.anaconda.com/pkgs/r/noarch\n",
      "\n",
      "To search for alternate channels that may provide the conda package you're\n",
      "looking for, navigate to\n",
      "\n",
      "    https://anaconda.org\n",
      "\n",
      "and use the search bar at the top of the page.\n",
      "\n",
      "\n",
      "\n",
      "Note: you may need to restart the kernel to use updated packages.\n"
     ]
    }
   ],
   "source": [
    "conda install dataops"
   ]
  },
  {
   "cell_type": "code",
   "execution_count": 56,
   "metadata": {},
   "outputs": [],
   "source": [
    "from skater.core.local_interpretation.lime.lime_tabular import LimeTabularExplainer\n",
    "#from skater.util.dataops import show_in_notebook\n",
    "exp = LimeTabularExplainer(x.values, \n",
    "                           feature_names=x.columns, \n",
    "                           discretize_continuous=True, \n",
    "                           class_names=['Y_0', 'Y_1'])\n",
    "#exp.explain_instance(x.iloc[5000].values, rf.predict_proba).show_in_notebook()"
   ]
  },
  {
   "cell_type": "code",
   "execution_count": null,
   "metadata": {},
   "outputs": [],
   "source": [
    "# Parameter Optimisation with Hyperopt-checkpoint - RF"
   ]
  },
  {
   "cell_type": "code",
   "execution_count": 49,
   "metadata": {},
   "outputs": [],
   "source": [
    "from sklearn.model_selection import train_test_split"
   ]
  },
  {
   "cell_type": "code",
   "execution_count": 29,
   "metadata": {},
   "outputs": [
    {
     "ename": "NameError",
     "evalue": "name 'x' is not defined",
     "output_type": "error",
     "traceback": [
      "\u001b[0;31m---------------------------------------------------------------------------\u001b[0m",
      "\u001b[0;31mNameError\u001b[0m                                 Traceback (most recent call last)",
      "\u001b[0;32m<ipython-input-29-a058a839cfb2>\u001b[0m in \u001b[0;36m<module>\u001b[0;34m\u001b[0m\n\u001b[0;32m----> 1\u001b[0;31m \u001b[0mx_train\u001b[0m\u001b[0;34m,\u001b[0m\u001b[0mx_test\u001b[0m\u001b[0;34m,\u001b[0m\u001b[0my_train\u001b[0m\u001b[0;34m,\u001b[0m\u001b[0my_test\u001b[0m\u001b[0;34m=\u001b[0m\u001b[0mtrain_test_split\u001b[0m\u001b[0;34m(\u001b[0m\u001b[0mx\u001b[0m\u001b[0;34m,\u001b[0m\u001b[0my\u001b[0m\u001b[0;34m,\u001b[0m\u001b[0mtest_size\u001b[0m\u001b[0;34m=\u001b[0m\u001b[0;36m0.2\u001b[0m\u001b[0;34m)\u001b[0m\u001b[0;34m\u001b[0m\u001b[0;34m\u001b[0m\u001b[0m\n\u001b[0m",
      "\u001b[0;31mNameError\u001b[0m: name 'x' is not defined"
     ]
    }
   ],
   "source": [
    "x_train,x_test,y_train,y_test=train_test_split(x,y,test_size=0.2)"
   ]
  },
  {
   "cell_type": "code",
   "execution_count": null,
   "metadata": {},
   "outputs": [],
   "source": []
  },
  {
   "cell_type": "code",
   "execution_count": 41,
   "metadata": {},
   "outputs": [
    {
     "name": "stdout",
     "output_type": "stream",
     "text": [
      "Requirement already satisfied: hyperopt in /opt/conda/lib/python3.7/site-packages (0.2.4)\n",
      "Requirement already satisfied: scipy in /opt/conda/lib/python3.7/site-packages (from hyperopt) (1.4.1)\n",
      "Requirement already satisfied: networkx>=2.2 in /opt/conda/lib/python3.7/site-packages (from hyperopt) (2.4)\n",
      "Requirement already satisfied: future in /opt/conda/lib/python3.7/site-packages (from hyperopt) (0.18.2)\n",
      "Requirement already satisfied: numpy in /opt/conda/lib/python3.7/site-packages (from hyperopt) (1.18.1)\n",
      "Requirement already satisfied: tqdm in /opt/conda/lib/python3.7/site-packages (from hyperopt) (4.45.0)\n",
      "Requirement already satisfied: cloudpickle in /opt/conda/lib/python3.7/site-packages (from hyperopt) (1.3.0)\n",
      "Requirement already satisfied: six in /opt/conda/lib/python3.7/site-packages (from hyperopt) (1.14.0)\n",
      "Requirement already satisfied: decorator>=4.3.0 in /opt/conda/lib/python3.7/site-packages (from networkx>=2.2->hyperopt) (4.4.2)\n"
     ]
    }
   ],
   "source": [
    "!pip install hyperopt"
   ]
  },
  {
   "cell_type": "code",
   "execution_count": 35,
   "metadata": {},
   "outputs": [],
   "source": [
    "from hyperopt import fmin, tpe, hp, STATUS_OK, Trials"
   ]
  },
  {
   "cell_type": "code",
   "execution_count": 36,
   "metadata": {},
   "outputs": [],
   "source": [
    "from sklearn.model_selection import cross_val_score"
   ]
  },
  {
   "cell_type": "code",
   "execution_count": 51,
   "metadata": {},
   "outputs": [],
   "source": [
    "def acc_model(params):\n",
    "    clf = RandomForestClassifier(**params)\n",
    "    return cross_val_score(clf, x_train, y_train).mean()"
   ]
  },
  {
   "cell_type": "code",
   "execution_count": 52,
   "metadata": {},
   "outputs": [
    {
     "data": {
      "text/plain": [
       "(19084, 21)"
      ]
     },
     "execution_count": 52,
     "metadata": {},
     "output_type": "execute_result"
    }
   ],
   "source": [
    "x_train.shape"
   ]
  },
  {
   "cell_type": "code",
   "execution_count": 53,
   "metadata": {},
   "outputs": [],
   "source": [
    "param_space = {\n",
    "    'max_depth': hp.choice('max_depth', range(1,100)),\n",
    "    'max_features': hp.choice('max_features', range(1,21)),\n",
    "    'n_estimators': hp.choice('n_estimators', range(100,5000)),\n",
    "    'criterion': hp.choice('criterion', [\"gini\", \"entropy\"])}"
   ]
  },
  {
   "cell_type": "code",
   "execution_count": 54,
   "metadata": {},
   "outputs": [],
   "source": [
    "best = 0\n",
    "def f(params):\n",
    "    global best\n",
    "    acc = acc_model(params)\n",
    "    if acc > best:\n",
    "        best = acc\n",
    "    print ('new best:', best, params)\n",
    "    return {'loss': -acc, 'status': STATUS_OK}"
   ]
  },
  {
   "cell_type": "code",
   "execution_count": 55,
   "metadata": {},
   "outputs": [
    {
     "name": "stdout",
     "output_type": "stream",
     "text": [
      "new best:                                             \n",
      "0.99769438718653                                      \n",
      "{'criterion': 'gini', 'max_depth': 24, 'max_features': 15, 'n_estimators': 1278}\n",
      "new best:                                                                       \n",
      "0.99769438718653                                                                \n",
      "{'criterion': 'gini', 'max_depth': 23, 'max_features': 19, 'n_estimators': 4831}\n",
      "new best:                                                                       \n",
      "0.9977467843570829                                                              \n",
      "{'criterion': 'gini', 'max_depth': 91, 'max_features': 16, 'n_estimators': 3284}\n",
      "new best:                                                                         \n",
      "0.9977467980879975                                                                \n",
      "{'criterion': 'gini', 'max_depth': 74, 'max_features': 16, 'n_estimators': 1424}  \n",
      "new best:                                                                         \n",
      "0.9977467980879975                                                                \n",
      "{'criterion': 'entropy', 'max_depth': 13, 'max_features': 8, 'n_estimators': 1032}\n",
      "new best:                                                                         \n",
      "0.9977467980879975                                                                \n",
      "{'criterion': 'gini', 'max_depth': 83, 'max_features': 3, 'n_estimators': 2630}   \n",
      "new best:                                                                         \n",
      "0.9977467980879975                                                                \n",
      "{'criterion': 'gini', 'max_depth': 60, 'max_features': 11, 'n_estimators': 2166}  \n",
      "new best:                                                                         \n",
      "0.9977467980879975                                                                \n",
      "{'criterion': 'entropy', 'max_depth': 30, 'max_features': 5, 'n_estimators': 1279}\n",
      "new best:                                                                         \n",
      "0.9977467980879975                                                                \n",
      "{'criterion': 'entropy', 'max_depth': 74, 'max_features': 5, 'n_estimators': 1478}\n",
      "new best:                                                                         \n",
      "0.9977467980879975                                                                \n",
      "{'criterion': 'gini', 'max_depth': 49, 'max_features': 7, 'n_estimators': 4783}   \n",
      "100%|██████████| 10/10 [40:55<00:00, 245.55s/trial, best loss: -0.9977467980879975]\n",
      "best:\n",
      "{'criterion': 0, 'max_depth': 73, 'max_features': 15, 'n_estimators': 1324}\n"
     ]
    }
   ],
   "source": [
    "trials = Trials()\n",
    "best = fmin(f, param_space, algo=tpe.suggest, max_evals=10, trials=trials)\n",
    "print ('best:')\n",
    "print (best)"
   ]
  },
  {
   "cell_type": "code",
   "execution_count": null,
   "metadata": {},
   "outputs": [],
   "source": []
  },
  {
   "cell_type": "code",
   "execution_count": 60,
   "metadata": {},
   "outputs": [],
   "source": [
    "x_train=nv_train.drop(['MULTIPLE_OFFENSE'],axis=1)\n",
    "y_train=nv_train['MULTIPLE_OFFENSE']"
   ]
  },
  {
   "cell_type": "code",
   "execution_count": 61,
   "metadata": {},
   "outputs": [],
   "source": [
    "x_test=nv_test"
   ]
  },
  {
   "cell_type": "code",
   "execution_count": 62,
   "metadata": {},
   "outputs": [],
   "source": [
    "rf=RandomForestClassifier(**{'criterion': 'gini', 'max_depth': 73, 'max_features': 15, 'n_estimators': 1324},n_jobs=-1,verbose=1)"
   ]
  },
  {
   "cell_type": "code",
   "execution_count": 63,
   "metadata": {},
   "outputs": [
    {
     "name": "stderr",
     "output_type": "stream",
     "text": [
      "[Parallel(n_jobs=-1)]: Using backend ThreadingBackend with 4 concurrent workers.\n",
      "[Parallel(n_jobs=-1)]: Done  42 tasks      | elapsed:    0.7s\n",
      "[Parallel(n_jobs=-1)]: Done 192 tasks      | elapsed:    2.5s\n",
      "[Parallel(n_jobs=-1)]: Done 442 tasks      | elapsed:    5.8s\n",
      "[Parallel(n_jobs=-1)]: Done 792 tasks      | elapsed:   10.2s\n",
      "[Parallel(n_jobs=-1)]: Done 1242 tasks      | elapsed:   15.9s\n",
      "[Parallel(n_jobs=-1)]: Done 1324 out of 1324 | elapsed:   17.0s finished\n"
     ]
    },
    {
     "data": {
      "text/plain": [
       "RandomForestClassifier(max_depth=73, max_features=15, n_estimators=1324,\n",
       "                       n_jobs=-1, verbose=1)"
      ]
     },
     "execution_count": 63,
     "metadata": {},
     "output_type": "execute_result"
    }
   ],
   "source": [
    "rf.fit(x_train,y_train)"
   ]
  },
  {
   "cell_type": "code",
   "execution_count": 64,
   "metadata": {},
   "outputs": [],
   "source": [
    "from sklearn.metrics import roc_auc_score"
   ]
  },
  {
   "cell_type": "code",
   "execution_count": 68,
   "metadata": {},
   "outputs": [
    {
     "name": "stderr",
     "output_type": "stream",
     "text": [
      "[Parallel(n_jobs=4)]: Using backend ThreadingBackend with 4 concurrent workers.\n",
      "[Parallel(n_jobs=4)]: Done  42 tasks      | elapsed:    0.0s\n",
      "[Parallel(n_jobs=4)]: Done 192 tasks      | elapsed:    0.1s\n",
      "[Parallel(n_jobs=4)]: Done 442 tasks      | elapsed:    0.3s\n",
      "[Parallel(n_jobs=4)]: Done 792 tasks      | elapsed:    0.6s\n",
      "[Parallel(n_jobs=4)]: Done 1242 tasks      | elapsed:    0.9s\n",
      "[Parallel(n_jobs=4)]: Done 1324 out of 1324 | elapsed:    0.9s finished\n"
     ]
    },
    {
     "data": {
      "text/plain": [
       "1.0"
      ]
     },
     "execution_count": 68,
     "metadata": {},
     "output_type": "execute_result"
    }
   ],
   "source": [
    "roc_auc_score(y_train,rf.predict(x_train))"
   ]
  },
  {
   "cell_type": "code",
   "execution_count": 69,
   "metadata": {},
   "outputs": [
    {
     "name": "stderr",
     "output_type": "stream",
     "text": [
      "[Parallel(n_jobs=4)]: Using backend ThreadingBackend with 4 concurrent workers.\n",
      "[Parallel(n_jobs=4)]: Done  42 tasks      | elapsed:    0.0s\n",
      "[Parallel(n_jobs=4)]: Done 192 tasks      | elapsed:    0.1s\n",
      "[Parallel(n_jobs=4)]: Done 442 tasks      | elapsed:    0.3s\n",
      "[Parallel(n_jobs=4)]: Done 792 tasks      | elapsed:    0.5s\n",
      "[Parallel(n_jobs=4)]: Done 1242 tasks      | elapsed:    0.8s\n",
      "[Parallel(n_jobs=4)]: Done 1324 out of 1324 | elapsed:    0.8s finished\n"
     ]
    }
   ],
   "source": [
    "p=rf.predict(x_test)"
   ]
  },
  {
   "cell_type": "code",
   "execution_count": null,
   "metadata": {},
   "outputs": [],
   "source": [
    "# Random Forest"
   ]
  },
  {
   "cell_type": "code",
   "execution_count": 36,
   "metadata": {},
   "outputs": [],
   "source": [
    "from sklearn.ensemble import RandomForestClassifier\n",
    "from sklearn.model_selection import RandomizedSearchCV"
   ]
  },
  {
   "cell_type": "code",
   "execution_count": null,
   "metadata": {},
   "outputs": [],
   "source": [
    "param_dist={'n_estimators':[i for i in range (100,5000,200)],\n",
    "             'max_features':[i for i in range (2,14,2)],\n",
    "             'bootstrap':[True,False],\n",
    "        'class_weight':[None,'balanced'],\n",
    "       'criterion':['entropy','gini'],\n",
    "       'max_depth':[i for i in range (2,100,5)],\n",
    "           'min_samples_leaf':[1,2,5,10,15,20],\n",
    "           'min_samples_split':[i for i in range(2,100,3)] \n",
    "       }"
   ]
  },
  {
   "cell_type": "code",
   "execution_count": null,
   "metadata": {},
   "outputs": [],
   "source": [
    "clf=RandomForestClassifier(n_jobs=-1,verbose=1)"
   ]
  },
  {
   "cell_type": "code",
   "execution_count": null,
   "metadata": {},
   "outputs": [],
   "source": [
    "random_search=RandomizedSearchCV(clf,cv=10,\n",
    "                                param_distributions=param_dist,\n",
    "                                scoring='roc_auc',\n",
    "                                n_iter=10\n",
    "                                )"
   ]
  },
  {
   "cell_type": "code",
   "execution_count": null,
   "metadata": {},
   "outputs": [],
   "source": [
    "random_search.fit(x_train,y_train)"
   ]
  },
  {
   "cell_type": "code",
   "execution_count": null,
   "metadata": {},
   "outputs": [],
   "source": [
    "rf=random_search.best_estimator_"
   ]
  },
  {
   "cell_type": "code",
   "execution_count": null,
   "metadata": {},
   "outputs": [],
   "source": [
    "def report(results, n_top=3):\n",
    "    for i in range(1, n_top + 1):\n",
    "        candidates=np.flatnonzero(results['rank_test_score']==i)\n",
    "        for candidate in candidates:\n",
    "            print('Model with rank: {0}'.format(i))\n",
    "            print('Mean validation score: {0:3f}(std:{1:.5f})'.format(\n",
    "                results['mean_test_score'][candidate],\n",
    "                results['std_test_score'][candidate]))\n",
    "            print('parameters: {0}'.format(results['params'][candidate]))\n",
    "            print('')"
   ]
  },
  {
   "cell_type": "code",
   "execution_count": null,
   "metadata": {},
   "outputs": [],
   "source": [
    "report(random_search.cv_results_,5)"
   ]
  },
  {
   "cell_type": "code",
   "execution_count": null,
   "metadata": {},
   "outputs": [],
   "source": [
    "from sklearn.metrics import roc_auc_score"
   ]
  },
  {
   "cell_type": "code",
   "execution_count": null,
   "metadata": {},
   "outputs": [],
   "source": [
    "predict=rf.predict(x_train)"
   ]
  },
  {
   "cell_type": "code",
   "execution_count": null,
   "metadata": {},
   "outputs": [],
   "source": [
    "roc_auc_score(y_train,predict)"
   ]
  },
  {
   "cell_type": "code",
   "execution_count": null,
   "metadata": {},
   "outputs": [],
   "source": [
    "p=rf.predict(x_test)"
   ]
  },
  {
   "cell_type": "code",
   "execution_count": 70,
   "metadata": {},
   "outputs": [],
   "source": [
    "temp=pd.read_csv(r'//kaggle/input/novartis-data/Test.csv')"
   ]
  },
  {
   "cell_type": "code",
   "execution_count": null,
   "metadata": {},
   "outputs": [],
   "source": [
    "temp.head()"
   ]
  },
  {
   "cell_type": "code",
   "execution_count": 71,
   "metadata": {},
   "outputs": [],
   "source": [
    "submission=pd.DataFrame({\n",
    "    'INCIDENT_ID': temp['INCIDENT_ID'],\n",
    "    'MULTIPLE_OFFENSE':p\n",
    "})"
   ]
  },
  {
   "cell_type": "code",
   "execution_count": 72,
   "metadata": {},
   "outputs": [],
   "source": [
    "submission.to_csv('novartis.csv', index=False)"
   ]
  },
  {
   "cell_type": "code",
   "execution_count": 73,
   "metadata": {},
   "outputs": [
    {
     "data": {
      "text/html": [
       "<div>\n",
       "<style scoped>\n",
       "    .dataframe tbody tr th:only-of-type {\n",
       "        vertical-align: middle;\n",
       "    }\n",
       "\n",
       "    .dataframe tbody tr th {\n",
       "        vertical-align: top;\n",
       "    }\n",
       "\n",
       "    .dataframe thead th {\n",
       "        text-align: right;\n",
       "    }\n",
       "</style>\n",
       "<table border=\"1\" class=\"dataframe\">\n",
       "  <thead>\n",
       "    <tr style=\"text-align: right;\">\n",
       "      <th></th>\n",
       "      <th>INCIDENT_ID</th>\n",
       "      <th>MULTIPLE_OFFENSE</th>\n",
       "    </tr>\n",
       "  </thead>\n",
       "  <tbody>\n",
       "    <tr>\n",
       "      <th>0</th>\n",
       "      <td>CR_195453</td>\n",
       "      <td>1</td>\n",
       "    </tr>\n",
       "    <tr>\n",
       "      <th>1</th>\n",
       "      <td>CR_103520</td>\n",
       "      <td>1</td>\n",
       "    </tr>\n",
       "    <tr>\n",
       "      <th>2</th>\n",
       "      <td>CR_196089</td>\n",
       "      <td>1</td>\n",
       "    </tr>\n",
       "    <tr>\n",
       "      <th>3</th>\n",
       "      <td>CR_112195</td>\n",
       "      <td>1</td>\n",
       "    </tr>\n",
       "    <tr>\n",
       "      <th>4</th>\n",
       "      <td>CR_149832</td>\n",
       "      <td>1</td>\n",
       "    </tr>\n",
       "  </tbody>\n",
       "</table>\n",
       "</div>"
      ],
      "text/plain": [
       "  INCIDENT_ID  MULTIPLE_OFFENSE\n",
       "0   CR_195453                 1\n",
       "1   CR_103520                 1\n",
       "2   CR_196089                 1\n",
       "3   CR_112195                 1\n",
       "4   CR_149832                 1"
      ]
     },
     "execution_count": 73,
     "metadata": {},
     "output_type": "execute_result"
    }
   ],
   "source": [
    "submission.head()"
   ]
  },
  {
   "cell_type": "code",
   "execution_count": null,
   "metadata": {},
   "outputs": [],
   "source": [
    "# Parameter Optimisation with Hyperopt-checkpoint -XGB"
   ]
  },
  {
   "cell_type": "code",
   "execution_count": 27,
   "metadata": {},
   "outputs": [],
   "source": [
    "from sklearn.model_selection import train_test_split"
   ]
  },
  {
   "cell_type": "code",
   "execution_count": 31,
   "metadata": {},
   "outputs": [],
   "source": [
    "x_train,x_test,y_train,y_test=train_test_split(x,y,test_size=0.2)"
   ]
  },
  {
   "cell_type": "code",
   "execution_count": 42,
   "metadata": {},
   "outputs": [],
   "source": [
    "def acc_model(params):\n",
    "    XGB = XGBClassifier(**params)\n",
    "    return cross_val_score(XGB, x_train, y_train).mean()"
   ]
  },
  {
   "cell_type": "code",
   "execution_count": 33,
   "metadata": {},
   "outputs": [
    {
     "data": {
      "text/plain": [
       "(19084, 21)"
      ]
     },
     "execution_count": 33,
     "metadata": {},
     "output_type": "execute_result"
    }
   ],
   "source": [
    "x_train.shape"
   ]
  },
  {
   "cell_type": "code",
   "execution_count": null,
   "metadata": {},
   "outputs": [],
   "source": []
  },
  {
   "cell_type": "code",
   "execution_count": null,
   "metadata": {},
   "outputs": [],
   "source": [
    "param_dist={\n",
    "                'learning_rate':[0.01,0.05,0.1,0.3,0.5],\n",
    "                'gamma':[i/10.0 for i in range(0,5)],\n",
    "                'max_depth':[i for i in range(1,20)],\n",
    "                'min_child_weight':[i for i in range(1,10)],\n",
    "                'max_delta_step':[i for i in range(1,10)],\n",
    "                'subsample':[i/10.0 for i in range(5,10)],\n",
    "                'colsample_bytree':[i/10.0 for i in range(5,10)],\n",
    "                'colsample_bylevel':[i/10.0 for i in range(5,10)],\n",
    "                'reg_lambda':[1e-5, 1e-2, 0.1, 1, 100],\n",
    "                'reg_alpha':[1e-5, 1e-2, 0.1, 1, 100],\n",
    "                'scale_pos_weight':[i for i in range(1,25)],\n",
    "                'n_estimators':[i for i in range(100,5000,100)]\n",
    "            }"
   ]
  },
  {
   "cell_type": "code",
   "execution_count": 43,
   "metadata": {},
   "outputs": [],
   "source": [
    "param_space = {\n",
    "    'max_depth': hp.choice('max_depth', range(1,100)),\n",
    "    \n",
    "    'n_estimators': hp.choice('n_estimators', range(100,5000)),\n",
    "    \n",
    "    \n",
    "    'min_child_weight': hp.choice('min_child_weight',range(1,10)),\n",
    "    'max_delta_step': hp.choice('max_delta_step',range(1,10)),\n",
    "    'scale_pos_weight':hp.choice('scale_pos_weight',range(1,50))\n",
    "\n",
    "}"
   ]
  },
  {
   "cell_type": "code",
   "execution_count": null,
   "metadata": {},
   "outputs": [],
   "source": []
  },
  {
   "cell_type": "code",
   "execution_count": 44,
   "metadata": {},
   "outputs": [],
   "source": [
    "best = 0\n",
    "def f(params):\n",
    "    global best\n",
    "    acc = acc_model(params)\n",
    "    if acc > best:\n",
    "        best = acc\n",
    "    print ('new best:', best, params)\n",
    "    return {'loss': -acc, 'status': STATUS_OK}"
   ]
  },
  {
   "cell_type": "code",
   "execution_count": 45,
   "metadata": {},
   "outputs": [
    {
     "name": "stdout",
     "output_type": "stream",
     "text": [
      "new best:                                             \n",
      "0.9983755778655456                                    \n",
      "{'max_delta_step': 1, 'max_depth': 80, 'min_child_weight': 3, 'n_estimators': 4076, 'scale_pos_weight': 3}\n",
      "new best:                                                                        \n",
      "0.9983755778655456                                                               \n",
      "{'max_delta_step': 9, 'max_depth': 7, 'min_child_weight': 4, 'n_estimators': 4105, 'scale_pos_weight': 35}\n",
      "new best:                                                                        \n",
      "0.9983755778655456                                                               \n",
      "{'max_delta_step': 2, 'max_depth': 6, 'min_child_weight': 7, 'n_estimators': 306, 'scale_pos_weight': 20}\n",
      "new best:                                                                        \n",
      "0.9983755778655456                                                               \n",
      "{'max_delta_step': 5, 'max_depth': 40, 'min_child_weight': 6, 'n_estimators': 4145, 'scale_pos_weight': 35}\n",
      "new best:                                                                        \n",
      "0.9984804271303102                                                               \n",
      "{'max_delta_step': 1, 'max_depth': 5, 'min_child_weight': 1, 'n_estimators': 1480, 'scale_pos_weight': 24}\n",
      "new best:                                                                        \n",
      "0.9984804271303102                                                               \n",
      "{'max_delta_step': 4, 'max_depth': 92, 'min_child_weight': 8, 'n_estimators': 1587, 'scale_pos_weight': 15}\n",
      "new best:                                                                        \n",
      "0.9984804271303102                                                               \n",
      "{'max_delta_step': 1, 'max_depth': 16, 'min_child_weight': 7, 'n_estimators': 2001, 'scale_pos_weight': 1}\n",
      "new best:                                                                        \n",
      "0.9984804271303102                                                               \n",
      "{'max_delta_step': 5, 'max_depth': 57, 'min_child_weight': 7, 'n_estimators': 515, 'scale_pos_weight': 25}\n",
      "new best:                                                                        \n",
      "0.9984804271303102                                                               \n",
      "{'max_delta_step': 7, 'max_depth': 68, 'min_child_weight': 5, 'n_estimators': 1757, 'scale_pos_weight': 7}\n",
      "new best:                                                                        \n",
      "0.9985328243008631                                                               \n",
      "{'max_delta_step': 9, 'max_depth': 92, 'min_child_weight': 1, 'n_estimators': 2808, 'scale_pos_weight': 40}\n",
      "new best:                                                                         \n",
      "0.9985328243008631                                                                \n",
      "{'max_delta_step': 8, 'max_depth': 86, 'min_child_weight': 9, 'n_estimators': 4206, 'scale_pos_weight': 41}\n",
      "new best:                                                                         \n",
      "0.9985328243008631                                                                \n",
      "{'max_delta_step': 1, 'max_depth': 59, 'min_child_weight': 7, 'n_estimators': 812, 'scale_pos_weight': 43}\n",
      "new best:                                                                         \n",
      "0.9985328243008631                                                                \n",
      "{'max_delta_step': 6, 'max_depth': 14, 'min_child_weight': 1, 'n_estimators': 1991, 'scale_pos_weight': 15}\n",
      "new best:                                                                         \n",
      "0.9985328243008631                                                                \n",
      "{'max_delta_step': 6, 'max_depth': 8, 'min_child_weight': 8, 'n_estimators': 3959, 'scale_pos_weight': 31}\n",
      "new best:                                                                         \n",
      "0.9985328243008631                                                                \n",
      "{'max_delta_step': 7, 'max_depth': 32, 'min_child_weight': 5, 'n_estimators': 3621, 'scale_pos_weight': 8}\n",
      "new best:                                                                         \n",
      "0.9985328243008631                                                                \n",
      "{'max_delta_step': 2, 'max_depth': 62, 'min_child_weight': 1, 'n_estimators': 1745, 'scale_pos_weight': 15}\n",
      "new best:                                                                         \n",
      "0.9985328243008631                                                                \n",
      "{'max_delta_step': 9, 'max_depth': 98, 'min_child_weight': 2, 'n_estimators': 622, 'scale_pos_weight': 42}\n",
      "new best:                                                                         \n",
      "0.9985328243008631                                                                \n",
      "{'max_delta_step': 9, 'max_depth': 9, 'min_child_weight': 6, 'n_estimators': 1890, 'scale_pos_weight': 28}\n",
      "new best:                                                                         \n",
      "0.9985328243008631                                                                \n",
      "{'max_delta_step': 6, 'max_depth': 81, 'min_child_weight': 8, 'n_estimators': 3521, 'scale_pos_weight': 22}\n",
      "new best:                                                                         \n",
      "0.9985328243008631                                                                \n",
      "{'max_delta_step': 2, 'max_depth': 80, 'min_child_weight': 8, 'n_estimators': 356, 'scale_pos_weight': 13}\n",
      "100%|██████████| 20/20 [18:16<00:00, 54.81s/trial, best loss: -0.9985328243008631]\n",
      "best:\n",
      "{'max_delta_step': 8, 'max_depth': 91, 'min_child_weight': 0, 'n_estimators': 2708, 'scale_pos_weight': 39}\n"
     ]
    }
   ],
   "source": [
    "trials = Trials()\n",
    "best = fmin(f, param_space, algo=tpe.suggest, max_evals=20, trials=trials)\n",
    "print ('best:')\n",
    "print (best)"
   ]
  },
  {
   "cell_type": "code",
   "execution_count": null,
   "metadata": {},
   "outputs": [],
   "source": []
  },
  {
   "cell_type": "markdown",
   "metadata": {},
   "source": []
  },
  {
   "cell_type": "code",
   "execution_count": 48,
   "metadata": {},
   "outputs": [],
   "source": [
    "x_train=nv_train.drop(['MULTIPLE_OFFENSE'],axis=1)\n",
    "y_train=nv_train['MULTIPLE_OFFENSE']"
   ]
  },
  {
   "cell_type": "code",
   "execution_count": 63,
   "metadata": {},
   "outputs": [],
   "source": [
    "x_test=nv_test"
   ]
  },
  {
   "cell_type": "code",
   "execution_count": 50,
   "metadata": {},
   "outputs": [],
   "source": [
    "X=XGBClassifier(**{'max_delta_step': 8, 'max_depth': 91, 'min_child_weight': 0, 'n_estimators': 2708, 'scale_pos_weight': 39})"
   ]
  },
  {
   "cell_type": "code",
   "execution_count": 51,
   "metadata": {},
   "outputs": [
    {
     "data": {
      "text/plain": [
       "XGBClassifier(base_score=0.5, booster='gbtree', colsample_bylevel=1,\n",
       "              colsample_bynode=1, colsample_bytree=1, gamma=0, gpu_id=-1,\n",
       "              importance_type='gain', interaction_constraints='',\n",
       "              learning_rate=0.300000012, max_delta_step=8, max_depth=91,\n",
       "              min_child_weight=0, missing=nan, monotone_constraints='()',\n",
       "              n_estimators=2708, n_jobs=0, num_parallel_tree=1, random_state=0,\n",
       "              reg_alpha=0, reg_lambda=1, scale_pos_weight=39, subsample=1,\n",
       "              tree_method='exact', validate_parameters=1, verbosity=None)"
      ]
     },
     "execution_count": 51,
     "metadata": {},
     "output_type": "execute_result"
    }
   ],
   "source": [
    "X.fit(x_train,y_train)"
   ]
  },
  {
   "cell_type": "code",
   "execution_count": null,
   "metadata": {},
   "outputs": [],
   "source": [
    "from sklearn.metrics import roc_auc_score"
   ]
  },
  {
   "cell_type": "code",
   "execution_count": 52,
   "metadata": {},
   "outputs": [
    {
     "data": {
      "text/plain": [
       "1.0"
      ]
     },
     "execution_count": 52,
     "metadata": {},
     "output_type": "execute_result"
    }
   ],
   "source": [
    "roc_auc_score(y_train,X.predict(x_train))"
   ]
  },
  {
   "cell_type": "code",
   "execution_count": 64,
   "metadata": {},
   "outputs": [],
   "source": [
    "p=X.predict(x_test)"
   ]
  },
  {
   "cell_type": "code",
   "execution_count": 60,
   "metadata": {},
   "outputs": [],
   "source": [
    "temp=pd.read_csv(r'//kaggle/input/novartis-data/Test.csv')"
   ]
  },
  {
   "cell_type": "code",
   "execution_count": 61,
   "metadata": {},
   "outputs": [
    {
     "data": {
      "text/html": [
       "<div>\n",
       "<style scoped>\n",
       "    .dataframe tbody tr th:only-of-type {\n",
       "        vertical-align: middle;\n",
       "    }\n",
       "\n",
       "    .dataframe tbody tr th {\n",
       "        vertical-align: top;\n",
       "    }\n",
       "\n",
       "    .dataframe thead th {\n",
       "        text-align: right;\n",
       "    }\n",
       "</style>\n",
       "<table border=\"1\" class=\"dataframe\">\n",
       "  <thead>\n",
       "    <tr style=\"text-align: right;\">\n",
       "      <th></th>\n",
       "      <th>INCIDENT_ID</th>\n",
       "      <th>DATE</th>\n",
       "      <th>X_1</th>\n",
       "      <th>X_2</th>\n",
       "      <th>X_3</th>\n",
       "      <th>X_4</th>\n",
       "      <th>X_5</th>\n",
       "      <th>X_6</th>\n",
       "      <th>X_7</th>\n",
       "      <th>X_8</th>\n",
       "      <th>X_9</th>\n",
       "      <th>X_10</th>\n",
       "      <th>X_11</th>\n",
       "      <th>X_12</th>\n",
       "      <th>X_13</th>\n",
       "      <th>X_14</th>\n",
       "      <th>X_15</th>\n",
       "    </tr>\n",
       "  </thead>\n",
       "  <tbody>\n",
       "    <tr>\n",
       "      <th>0</th>\n",
       "      <td>CR_195453</td>\n",
       "      <td>01-FEB-18</td>\n",
       "      <td>0</td>\n",
       "      <td>30</td>\n",
       "      <td>35</td>\n",
       "      <td>7</td>\n",
       "      <td>3</td>\n",
       "      <td>6</td>\n",
       "      <td>4</td>\n",
       "      <td>0</td>\n",
       "      <td>5</td>\n",
       "      <td>1</td>\n",
       "      <td>174</td>\n",
       "      <td>NaN</td>\n",
       "      <td>72</td>\n",
       "      <td>119</td>\n",
       "      <td>23</td>\n",
       "    </tr>\n",
       "    <tr>\n",
       "      <th>1</th>\n",
       "      <td>CR_103520</td>\n",
       "      <td>05-MAR-04</td>\n",
       "      <td>0</td>\n",
       "      <td>44</td>\n",
       "      <td>44</td>\n",
       "      <td>1</td>\n",
       "      <td>3</td>\n",
       "      <td>7</td>\n",
       "      <td>1</td>\n",
       "      <td>4</td>\n",
       "      <td>6</td>\n",
       "      <td>1</td>\n",
       "      <td>316</td>\n",
       "      <td>0.0</td>\n",
       "      <td>12</td>\n",
       "      <td>29</td>\n",
       "      <td>34</td>\n",
       "    </tr>\n",
       "    <tr>\n",
       "      <th>2</th>\n",
       "      <td>CR_196089</td>\n",
       "      <td>27-JAN-18</td>\n",
       "      <td>0</td>\n",
       "      <td>34</td>\n",
       "      <td>33</td>\n",
       "      <td>3</td>\n",
       "      <td>5</td>\n",
       "      <td>2</td>\n",
       "      <td>7</td>\n",
       "      <td>3</td>\n",
       "      <td>0</td>\n",
       "      <td>1</td>\n",
       "      <td>316</td>\n",
       "      <td>1.0</td>\n",
       "      <td>72</td>\n",
       "      <td>0</td>\n",
       "      <td>34</td>\n",
       "    </tr>\n",
       "    <tr>\n",
       "      <th>3</th>\n",
       "      <td>CR_112195</td>\n",
       "      <td>18-AUG-06</td>\n",
       "      <td>7</td>\n",
       "      <td>3</td>\n",
       "      <td>2</td>\n",
       "      <td>3</td>\n",
       "      <td>5</td>\n",
       "      <td>9</td>\n",
       "      <td>8</td>\n",
       "      <td>0</td>\n",
       "      <td>5</td>\n",
       "      <td>1</td>\n",
       "      <td>174</td>\n",
       "      <td>1.0</td>\n",
       "      <td>112</td>\n",
       "      <td>87</td>\n",
       "      <td>34</td>\n",
       "    </tr>\n",
       "    <tr>\n",
       "      <th>4</th>\n",
       "      <td>CR_149832</td>\n",
       "      <td>31-OCT-11</td>\n",
       "      <td>0</td>\n",
       "      <td>7</td>\n",
       "      <td>8</td>\n",
       "      <td>7</td>\n",
       "      <td>3</td>\n",
       "      <td>2</td>\n",
       "      <td>7</td>\n",
       "      <td>1</td>\n",
       "      <td>5</td>\n",
       "      <td>1</td>\n",
       "      <td>174</td>\n",
       "      <td>0.0</td>\n",
       "      <td>112</td>\n",
       "      <td>93</td>\n",
       "      <td>43</td>\n",
       "    </tr>\n",
       "  </tbody>\n",
       "</table>\n",
       "</div>"
      ],
      "text/plain": [
       "  INCIDENT_ID       DATE  X_1  X_2  X_3  X_4  X_5  X_6  X_7  X_8  X_9  X_10  \\\n",
       "0   CR_195453  01-FEB-18    0   30   35    7    3    6    4    0    5     1   \n",
       "1   CR_103520  05-MAR-04    0   44   44    1    3    7    1    4    6     1   \n",
       "2   CR_196089  27-JAN-18    0   34   33    3    5    2    7    3    0     1   \n",
       "3   CR_112195  18-AUG-06    7    3    2    3    5    9    8    0    5     1   \n",
       "4   CR_149832  31-OCT-11    0    7    8    7    3    2    7    1    5     1   \n",
       "\n",
       "   X_11  X_12  X_13  X_14  X_15  \n",
       "0   174   NaN    72   119    23  \n",
       "1   316   0.0    12    29    34  \n",
       "2   316   1.0    72     0    34  \n",
       "3   174   1.0   112    87    34  \n",
       "4   174   0.0   112    93    43  "
      ]
     },
     "execution_count": 61,
     "metadata": {},
     "output_type": "execute_result"
    }
   ],
   "source": [
    "temp.head()"
   ]
  },
  {
   "cell_type": "code",
   "execution_count": 65,
   "metadata": {},
   "outputs": [],
   "source": [
    "submission=pd.DataFrame({\n",
    "    'INCIDENT_ID': temp['INCIDENT_ID'],\n",
    "    'MULTIPLE_OFFENSE':p\n",
    "})"
   ]
  },
  {
   "cell_type": "code",
   "execution_count": 66,
   "metadata": {},
   "outputs": [],
   "source": [
    "submission.to_csv('novartis1.csv', index=False)"
   ]
  },
  {
   "cell_type": "code",
   "execution_count": 67,
   "metadata": {},
   "outputs": [
    {
     "data": {
      "text/html": [
       "<div>\n",
       "<style scoped>\n",
       "    .dataframe tbody tr th:only-of-type {\n",
       "        vertical-align: middle;\n",
       "    }\n",
       "\n",
       "    .dataframe tbody tr th {\n",
       "        vertical-align: top;\n",
       "    }\n",
       "\n",
       "    .dataframe thead th {\n",
       "        text-align: right;\n",
       "    }\n",
       "</style>\n",
       "<table border=\"1\" class=\"dataframe\">\n",
       "  <thead>\n",
       "    <tr style=\"text-align: right;\">\n",
       "      <th></th>\n",
       "      <th>INCIDENT_ID</th>\n",
       "      <th>MULTIPLE_OFFENSE</th>\n",
       "    </tr>\n",
       "  </thead>\n",
       "  <tbody>\n",
       "    <tr>\n",
       "      <th>0</th>\n",
       "      <td>CR_195453</td>\n",
       "      <td>1</td>\n",
       "    </tr>\n",
       "    <tr>\n",
       "      <th>1</th>\n",
       "      <td>CR_103520</td>\n",
       "      <td>1</td>\n",
       "    </tr>\n",
       "    <tr>\n",
       "      <th>2</th>\n",
       "      <td>CR_196089</td>\n",
       "      <td>1</td>\n",
       "    </tr>\n",
       "    <tr>\n",
       "      <th>3</th>\n",
       "      <td>CR_112195</td>\n",
       "      <td>1</td>\n",
       "    </tr>\n",
       "    <tr>\n",
       "      <th>4</th>\n",
       "      <td>CR_149832</td>\n",
       "      <td>1</td>\n",
       "    </tr>\n",
       "  </tbody>\n",
       "</table>\n",
       "</div>"
      ],
      "text/plain": [
       "  INCIDENT_ID  MULTIPLE_OFFENSE\n",
       "0   CR_195453                 1\n",
       "1   CR_103520                 1\n",
       "2   CR_196089                 1\n",
       "3   CR_112195                 1\n",
       "4   CR_149832                 1"
      ]
     },
     "execution_count": 67,
     "metadata": {},
     "output_type": "execute_result"
    }
   ],
   "source": [
    "submission.head()"
   ]
  },
  {
   "cell_type": "code",
   "execution_count": null,
   "metadata": {},
   "outputs": [],
   "source": []
  },
  {
   "cell_type": "code",
   "execution_count": null,
   "metadata": {},
   "outputs": [],
   "source": [
    "# XGB"
   ]
  },
  {
   "cell_type": "code",
   "execution_count": 32,
   "metadata": {},
   "outputs": [],
   "source": [
    "from xgboost.sklearn import XGBClassifier\n",
    "from sklearn.model_selection import RandomizedSearchCV"
   ]
  },
  {
   "cell_type": "code",
   "execution_count": 35,
   "metadata": {},
   "outputs": [],
   "source": [
    "param_dist={\n",
    "                'learning_rate':[0.01,0.05,0.1,0.3,0.5],\n",
    "                'gamma':[i/10.0 for i in range(0,5)],\n",
    "                \n",
    "               \n",
    "                'subsample':[i/10.0 for i in range(5,10)],\n",
    "                'colsample_bytree':[i/10.0 for i in range(5,10)],\n",
    "                'colsample_bylevel':[i/10.0 for i in range(5,10)],\n",
    "                'reg_lambda':[1e-5, 1e-2, 0.1, 1, 100],\n",
    "                'reg_alpha':[1e-5, 1e-2, 0.1, 1, 100]\n",
    "   \n",
    "            }"
   ]
  },
  {
   "cell_type": "code",
   "execution_count": 36,
   "metadata": {},
   "outputs": [],
   "source": [
    "XGB_clf=XGBClassifier(**{'max_delta_step': 8, 'max_depth': 91, 'min_child_weight': 0, 'n_estimators': 2708, 'scale_pos_weight': 39})"
   ]
  },
  {
   "cell_type": "code",
   "execution_count": 37,
   "metadata": {},
   "outputs": [],
   "source": [
    "random_search=RandomizedSearchCV(XGB_clf,n_jobs=-1,verbose=1,cv=10,n_iter=10,scoring='roc_auc',\n",
    "                                 param_distributions=param_dist)"
   ]
  },
  {
   "cell_type": "code",
   "execution_count": null,
   "metadata": {},
   "outputs": [
    {
     "name": "stdout",
     "output_type": "stream",
     "text": [
      "Fitting 10 folds for each of 10 candidates, totalling 100 fits\n"
     ]
    },
    {
     "name": "stderr",
     "output_type": "stream",
     "text": [
      "[Parallel(n_jobs=-1)]: Using backend LokyBackend with 4 concurrent workers.\n",
      "[Parallel(n_jobs=-1)]: Done  42 tasks      | elapsed: 22.6min\n",
      "[Parallel(n_jobs=-1)]: Done 100 out of 100 | elapsed: 38.8min finished\n"
     ]
    }
   ],
   "source": [
    "random_search.fit (x_train,y_train)"
   ]
  },
  {
   "cell_type": "code",
   "execution_count": 1,
   "metadata": {},
   "outputs": [
    {
     "ename": "NameError",
     "evalue": "name 'random_search' is not defined",
     "output_type": "error",
     "traceback": [
      "\u001b[0;31m---------------------------------------------------------------------------\u001b[0m",
      "\u001b[0;31mNameError\u001b[0m                                 Traceback (most recent call last)",
      "\u001b[0;32m<ipython-input-1-e744a8c36880>\u001b[0m in \u001b[0;36m<module>\u001b[0;34m\u001b[0m\n\u001b[0;32m----> 1\u001b[0;31m \u001b[0mXGB\u001b[0m\u001b[0;34m=\u001b[0m\u001b[0mrandom_search\u001b[0m\u001b[0;34m.\u001b[0m\u001b[0mbest_estimator_\u001b[0m\u001b[0;34m\u001b[0m\u001b[0;34m\u001b[0m\u001b[0m\n\u001b[0m",
      "\u001b[0;31mNameError\u001b[0m: name 'random_search' is not defined"
     ]
    }
   ],
   "source": [
    "XGB=random_search.best_estimator_"
   ]
  },
  {
   "cell_type": "code",
   "execution_count": null,
   "metadata": {},
   "outputs": [],
   "source": [
    "XGB"
   ]
  },
  {
   "cell_type": "code",
   "execution_count": 58,
   "metadata": {},
   "outputs": [
    {
     "ename": "NameError",
     "evalue": "name 'report' is not defined",
     "output_type": "error",
     "traceback": [
      "\u001b[0;31m---------------------------------------------------------------------------\u001b[0m",
      "\u001b[0;31mNameError\u001b[0m                                 Traceback (most recent call last)",
      "\u001b[0;32m<ipython-input-58-00a24ef47ff8>\u001b[0m in \u001b[0;36m<module>\u001b[0;34m\u001b[0m\n\u001b[0;32m----> 1\u001b[0;31m \u001b[0mreport\u001b[0m\u001b[0;34m(\u001b[0m\u001b[0mrandom_search\u001b[0m\u001b[0;34m.\u001b[0m\u001b[0mcv_results_\u001b[0m\u001b[0;34m,\u001b[0m\u001b[0;36m5\u001b[0m\u001b[0;34m)\u001b[0m\u001b[0;34m\u001b[0m\u001b[0;34m\u001b[0m\u001b[0m\n\u001b[0m",
      "\u001b[0;31mNameError\u001b[0m: name 'report' is not defined"
     ]
    }
   ],
   "source": [
    "report(random_search.cv_results_,5)"
   ]
  },
  {
   "cell_type": "code",
   "execution_count": null,
   "metadata": {},
   "outputs": [],
   "source": [
    "predict=XGB.predict(x_train)"
   ]
  },
  {
   "cell_type": "code",
   "execution_count": null,
   "metadata": {},
   "outputs": [],
   "source": [
    "roc_auc_score(y_train,predict)"
   ]
  },
  {
   "cell_type": "code",
   "execution_count": null,
   "metadata": {},
   "outputs": [],
   "source": [
    "p=XGB.predict(x_test)"
   ]
  },
  {
   "cell_type": "code",
   "execution_count": null,
   "metadata": {},
   "outputs": [],
   "source": [
    "submission=pd.DataFrame({\n",
    "    'INCIDENT_ID': temp['INCIDENT_ID'],\n",
    "    'MULTIPLE_OFFENSE':p\n",
    "})"
   ]
  },
  {
   "cell_type": "code",
   "execution_count": null,
   "metadata": {},
   "outputs": [],
   "source": [
    "submission.to_csv('novartis.csv', index=False)"
   ]
  },
  {
   "cell_type": "code",
   "execution_count": null,
   "metadata": {},
   "outputs": [],
   "source": [
    "submission.head()"
   ]
  },
  {
   "cell_type": "code",
   "execution_count": null,
   "metadata": {},
   "outputs": [],
   "source": []
  }
 ],
 "metadata": {
  "kernelspec": {
   "display_name": "Python 3",
   "language": "python",
   "name": "python3"
  },
  "language_info": {
   "codemirror_mode": {
    "name": "ipython",
    "version": 3
   },
   "file_extension": ".py",
   "mimetype": "text/x-python",
   "name": "python",
   "nbconvert_exporter": "python",
   "pygments_lexer": "ipython3",
   "version": "3.7.8"
  }
 },
 "nbformat": 4,
 "nbformat_minor": 4
}
